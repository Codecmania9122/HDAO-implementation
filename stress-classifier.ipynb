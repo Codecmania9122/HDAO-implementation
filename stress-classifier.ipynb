{
 "cells": [
  {
   "cell_type": "markdown",
   "id": "486e631a",
   "metadata": {
    "papermill": {
     "duration": 0.011238,
     "end_time": "2025-06-08T15:19:55.823440",
     "exception": false,
     "start_time": "2025-06-08T15:19:55.812202",
     "status": "completed"
    },
    "tags": []
   },
   "source": [
    "# Data Acquisition"
   ]
  },
  {
   "cell_type": "code",
   "execution_count": 1,
   "id": "8f3a9976",
   "metadata": {
    "_cell_guid": "b1076dfc-b9ad-4769-8c92-a6c4dae69d19",
    "_uuid": "8f2839f25d086af736a60e9eeb907d3b93b6e0e5",
    "execution": {
     "iopub.execute_input": "2025-06-08T15:19:55.843505Z",
     "iopub.status.busy": "2025-06-08T15:19:55.843293Z",
     "iopub.status.idle": "2025-06-08T15:21:32.921642Z",
     "shell.execute_reply": "2025-06-08T15:21:32.921022Z"
    },
    "papermill": {
     "duration": 97.089769,
     "end_time": "2025-06-08T15:21:32.922983",
     "exception": false,
     "start_time": "2025-06-08T15:19:55.833214",
     "status": "completed"
    },
    "tags": []
   },
   "outputs": [
    {
     "name": "stderr",
     "output_type": "stream",
     "text": [
      "Processing first 10 files: 100%|██████████| 10/10 [01:33<00:00,  9.36s/it]\n"
     ]
    }
   ],
   "source": [
    "import os\n",
    "import pickle\n",
    "import pandas as pd\n",
    "import numpy as np\n",
    "from tqdm import tqdm\n",
    "\n",
    "# --- Configuration ---\n",
    "pkl_dir = \"/kaggle/input/dataset-2\"\n",
    "output_csv = \"combined_chest_data.csv\"\n",
    "\n",
    "# --- Load and combine data ---\n",
    "all_subjects = []\n",
    "\n",
    "# Get only the first 10 .pkl files\n",
    "pkl_files = sorted([f for f in os.listdir(pkl_dir) if f.endswith(\".pkl\")])[:10]\n",
    "\n",
    "for file in tqdm(pkl_files, desc=\"Processing first 10 files\"):\n",
    "    file_path = os.path.join(pkl_dir, file)\n",
    "    with open(file_path, 'rb') as f:\n",
    "        data = pickle.load(f, encoding='latin1')  # Fix for Python 2→3\n",
    "\n",
    "        # Extract RespiBAN (chest) data\n",
    "        chest = data['signal']['chest']\n",
    "        subject = data['subject']\n",
    "        labels = data['label']\n",
    "\n",
    "        # --- KEY MODIFICATION: Filter labels 5/6/7 ---\n",
    "        valid_mask = ~np.isin(labels, [5, 6, 7])  # True for valid labels (0–4)\n",
    "\n",
    "        # Convert nested arrays to DataFrame columns (only valid rows)\n",
    "        df = pd.DataFrame({\n",
    "            'ACC_x': chest['ACC'][valid_mask, 0],\n",
    "            'ACC_y': chest['ACC'][valid_mask, 1],\n",
    "            'ACC_z': chest['ACC'][valid_mask, 2],\n",
    "            'ECG': chest['ECG'][valid_mask].flatten(),\n",
    "            'EMG': chest['EMG'][valid_mask].flatten(),\n",
    "            'EDA': chest['EDA'][valid_mask].flatten(),\n",
    "            'Temp': chest['Temp'][valid_mask].flatten(),\n",
    "            'Resp': chest['Resp'][valid_mask].flatten(),\n",
    "            'subject': [subject] * np.sum(valid_mask),\n",
    "            'label': labels[valid_mask]\n",
    "        })\n",
    "\n",
    "        all_subjects.append(df)\n",
    "\n",
    "# --- Combine into one DataFrame ---\n",
    "combined_chest_df = pd.concat(all_subjects, ignore_index=True)"
   ]
  },
  {
   "cell_type": "code",
   "execution_count": 2,
   "id": "e1513739",
   "metadata": {
    "execution": {
     "iopub.execute_input": "2025-06-08T15:21:32.946294Z",
     "iopub.status.busy": "2025-06-08T15:21:32.945962Z",
     "iopub.status.idle": "2025-06-08T15:21:32.953225Z",
     "shell.execute_reply": "2025-06-08T15:21:32.952555Z"
    },
    "papermill": {
     "duration": 0.020843,
     "end_time": "2025-06-08T15:21:32.954419",
     "exception": false,
     "start_time": "2025-06-08T15:21:32.933576",
     "status": "completed"
    },
    "tags": []
   },
   "outputs": [
    {
     "data": {
      "text/plain": [
       "Index(['ACC_x', 'ACC_y', 'ACC_z', 'ECG', 'EMG', 'EDA', 'Temp', 'Resp',\n",
       "       'subject', 'label'],\n",
       "      dtype='object')"
      ]
     },
     "execution_count": 2,
     "metadata": {},
     "output_type": "execute_result"
    }
   ],
   "source": [
    "combined_chest_df.columns"
   ]
  },
  {
   "cell_type": "code",
   "execution_count": 3,
   "id": "7b012715",
   "metadata": {
    "execution": {
     "iopub.execute_input": "2025-06-08T15:21:32.975647Z",
     "iopub.status.busy": "2025-06-08T15:21:32.975461Z",
     "iopub.status.idle": "2025-06-08T15:21:32.979002Z",
     "shell.execute_reply": "2025-06-08T15:21:32.978349Z"
    },
    "papermill": {
     "duration": 0.015629,
     "end_time": "2025-06-08T15:21:32.980165",
     "exception": false,
     "start_time": "2025-06-08T15:21:32.964536",
     "status": "completed"
    },
    "tags": []
   },
   "outputs": [
    {
     "name": "stdout",
     "output_type": "stream",
     "text": [
      "Final DataFrame shape: (39237102, 10)\n"
     ]
    }
   ],
   "source": [
    "# --- Save to CSV ---\n",
    "# combined_chest_df.to_csv(output_csv, index=False)\n",
    "print(f\"Final DataFrame shape: {combined_chest_df.shape}\")"
   ]
  },
  {
   "cell_type": "markdown",
   "id": "9079a6d8",
   "metadata": {
    "papermill": {
     "duration": 0.009981,
     "end_time": "2025-06-08T15:21:33.000146",
     "exception": false,
     "start_time": "2025-06-08T15:21:32.990165",
     "status": "completed"
    },
    "tags": []
   },
   "source": [
    "MAX freq. components"
   ]
  },
  {
   "cell_type": "code",
   "execution_count": 4,
   "id": "28e40050",
   "metadata": {
    "execution": {
     "iopub.execute_input": "2025-06-08T15:21:33.020966Z",
     "iopub.status.busy": "2025-06-08T15:21:33.020786Z",
     "iopub.status.idle": "2025-06-08T15:21:57.358004Z",
     "shell.execute_reply": "2025-06-08T15:21:57.357272Z"
    },
    "papermill": {
     "duration": 24.349196,
     "end_time": "2025-06-08T15:21:57.359375",
     "exception": false,
     "start_time": "2025-06-08T15:21:33.010179",
     "status": "completed"
    },
    "tags": []
   },
   "outputs": [
    {
     "name": "stdout",
     "output_type": "stream",
     "text": [
      "\n",
      "Subject: S10\n",
      "  ACC_x: 0.0037 Hz\n",
      "  ACC_y: 1.8357 Hz\n",
      "  ACC_z: 0.0354 Hz\n",
      "  ECG: 99.8360 Hz\n",
      "  EMG: 65.8188 Hz\n",
      "  EDA: 0.0030 Hz\n",
      "  Temp: 0.0000 Hz\n",
      "  Resp: 1.6590 Hz\n",
      "\n",
      "Subject: S11\n",
      "  ACC_x: 0.0000 Hz\n",
      "  ACC_y: 4.8937 Hz\n",
      "  ACC_z: 0.0925 Hz\n",
      "  ECG: 124.6652 Hz\n",
      "  EMG: 79.8317 Hz\n",
      "  EDA: 0.0008 Hz\n",
      "  Temp: 0.0000 Hz\n",
      "  Resp: 1.2183 Hz\n",
      "\n",
      "Subject: S13\n",
      "  ACC_x: 0.0015 Hz\n",
      "  ACC_y: 1.1507 Hz\n",
      "  ACC_z: 0.1851 Hz\n",
      "  ECG: 105.1271 Hz\n",
      "  EMG: 92.2072 Hz\n",
      "  EDA: 0.0022 Hz\n",
      "  Temp: 0.0000 Hz\n",
      "  Resp: 1.6395 Hz\n",
      "\n",
      "Subject: S14\n",
      "  ACC_x: 0.0022 Hz\n",
      "  ACC_y: 2.7995 Hz\n",
      "  ACC_z: 0.0582 Hz\n",
      "  ECG: 135.9289 Hz\n",
      "  EMG: 199.3188 Hz\n",
      "  EDA: 0.0004 Hz\n",
      "  Temp: 0.0000 Hz\n",
      "  Resp: 1.3793 Hz\n",
      "\n",
      "Subject: S15\n",
      "  ACC_x: 0.0033 Hz\n",
      "  ACC_y: 0.7389 Hz\n",
      "  ACC_z: 0.2807 Hz\n",
      "  ECG: 108.3924 Hz\n",
      "  EMG: 155.0975 Hz\n",
      "  EDA: 0.0031 Hz\n",
      "  Temp: 0.0000 Hz\n",
      "  Resp: 1.4075 Hz\n",
      "\n",
      "Subject: S16\n",
      "  ACC_x: 0.0000 Hz\n",
      "  ACC_y: 0.8249 Hz\n",
      "  ACC_z: 0.2598 Hz\n",
      "  ECG: 119.7055 Hz\n",
      "  EMG: 73.4431 Hz\n",
      "  EDA: 0.0029 Hz\n",
      "  Temp: 0.0000 Hz\n",
      "  Resp: 1.6398 Hz\n",
      "\n",
      "Subject: S17\n",
      "  ACC_x: 0.0090 Hz\n",
      "  ACC_y: 0.9770 Hz\n",
      "  ACC_z: 0.0242 Hz\n",
      "  ECG: 116.2046 Hz\n",
      "  EMG: 115.0913 Hz\n",
      "  EDA: 0.0009 Hz\n",
      "  Temp: 0.0000 Hz\n",
      "  Resp: 1.3919 Hz\n",
      "\n",
      "Subject: S2\n",
      "  ACC_x: 0.0061 Hz\n",
      "  ACC_y: 0.0331 Hz\n",
      "  ACC_z: 0.0356 Hz\n",
      "  ECG: 100.0462 Hz\n",
      "  EMG: 88.5884 Hz\n",
      "  EDA: 0.0131 Hz\n",
      "  Temp: 0.0005 Hz\n",
      "  Resp: 1.7390 Hz\n",
      "\n",
      "Subject: S3\n",
      "  ACC_x: 0.0033 Hz\n",
      "  ACC_y: 5.6456 Hz\n",
      "  ACC_z: 0.4227 Hz\n",
      "  ECG: 99.5046 Hz\n",
      "  EMG: 186.5409 Hz\n",
      "  EDA: 0.0049 Hz\n",
      "  Temp: 0.0002 Hz\n",
      "  Resp: 1.6669 Hz\n",
      "\n",
      "Subject: S4\n",
      "  ACC_x: 0.0021 Hz\n",
      "  ACC_y: 0.0645 Hz\n",
      "  ACC_z: 0.0633 Hz\n",
      "  ECG: 132.3899 Hz\n",
      "  EMG: 115.9122 Hz\n",
      "  EDA: 0.0030 Hz\n",
      "  Temp: 0.0000 Hz\n",
      "  Resp: 1.7570 Hz\n"
     ]
    }
   ],
   "source": [
    "import numpy as np\n",
    "\n",
    "def find_max_frequency(signal, fs, threshold=0.01):\n",
    "    n = len(signal)\n",
    "    if n == 0:\n",
    "        return 0\n",
    "    fft_vals = np.fft.rfft(signal)\n",
    "    fft_freqs = np.fft.rfftfreq(n, 1/fs)\n",
    "    \n",
    "    magnitude = np.abs(fft_vals)\n",
    "    magnitude_norm = magnitude / np.max(magnitude)\n",
    "    \n",
    "    significant_freqs = fft_freqs[magnitude_norm > threshold]\n",
    "    \n",
    "    if len(significant_freqs) == 0:\n",
    "        return 0\n",
    "    else:\n",
    "        return significant_freqs.max()\n",
    "\n",
    "# Sampling frequency (update if different)\n",
    "fs = 700\n",
    "\n",
    "sensor_columns = ['ACC_x', 'ACC_y', 'ACC_z', 'ECG', 'EMG', 'EDA', 'Temp', 'Resp']\n",
    "\n",
    "max_freqs_per_subject = {}\n",
    "\n",
    "for subject_id, df_subj in combined_chest_df.groupby('subject'):\n",
    "    max_freqs = {}\n",
    "    for sensor in sensor_columns:\n",
    "        signal = df_subj[sensor].dropna().values\n",
    "        max_freq = find_max_frequency(signal, fs)\n",
    "        max_freqs[sensor] = max_freq\n",
    "    max_freqs_per_subject[subject_id] = max_freqs\n",
    "\n",
    "# Print max frequencies per subject\n",
    "for subject_id, freqs in max_freqs_per_subject.items():\n",
    "    print(f\"\\nSubject: {subject_id}\")\n",
    "    for sensor, freq in freqs.items():\n",
    "        print(f\"  {sensor}: {freq:.4f} Hz\")\n"
   ]
  },
  {
   "cell_type": "markdown",
   "id": "31d2e35b",
   "metadata": {
    "papermill": {
     "duration": 0.010138,
     "end_time": "2025-06-08T15:21:57.380410",
     "exception": false,
     "start_time": "2025-06-08T15:21:57.370272",
     "status": "completed"
    },
    "tags": []
   },
   "source": [
    "# 400Hz Downsampling"
   ]
  },
  {
   "cell_type": "code",
   "execution_count": 5,
   "id": "887cd0df",
   "metadata": {
    "execution": {
     "iopub.execute_input": "2025-06-08T15:21:57.402202Z",
     "iopub.status.busy": "2025-06-08T15:21:57.401437Z",
     "iopub.status.idle": "2025-06-08T15:22:11.460065Z",
     "shell.execute_reply": "2025-06-08T15:22:11.459332Z"
    },
    "papermill": {
     "duration": 14.070564,
     "end_time": "2025-06-08T15:22:11.461247",
     "exception": false,
     "start_time": "2025-06-08T15:21:57.390683",
     "status": "completed"
    },
    "tags": []
   },
   "outputs": [
    {
     "data": {
      "text/html": [
       "<div>\n",
       "<style scoped>\n",
       "    .dataframe tbody tr th:only-of-type {\n",
       "        vertical-align: middle;\n",
       "    }\n",
       "\n",
       "    .dataframe tbody tr th {\n",
       "        vertical-align: top;\n",
       "    }\n",
       "\n",
       "    .dataframe thead th {\n",
       "        text-align: right;\n",
       "    }\n",
       "</style>\n",
       "<table border=\"1\" class=\"dataframe\">\n",
       "  <thead>\n",
       "    <tr style=\"text-align: right;\">\n",
       "      <th></th>\n",
       "      <th>ACC_x</th>\n",
       "      <th>ACC_y</th>\n",
       "      <th>ACC_z</th>\n",
       "      <th>ECG</th>\n",
       "      <th>EMG</th>\n",
       "      <th>EDA</th>\n",
       "      <th>Temp</th>\n",
       "      <th>Resp</th>\n",
       "      <th>subject</th>\n",
       "      <th>label</th>\n",
       "      <th>time</th>\n",
       "    </tr>\n",
       "  </thead>\n",
       "  <tbody>\n",
       "    <tr>\n",
       "      <th>0</th>\n",
       "      <td>1.1278</td>\n",
       "      <td>0.1520</td>\n",
       "      <td>0.3416</td>\n",
       "      <td>-1.333694</td>\n",
       "      <td>-0.013687</td>\n",
       "      <td>0.716019</td>\n",
       "      <td>33.695862</td>\n",
       "      <td>0.213623</td>\n",
       "      <td>S10</td>\n",
       "      <td>0</td>\n",
       "      <td>0.0000</td>\n",
       "    </tr>\n",
       "    <tr>\n",
       "      <th>1</th>\n",
       "      <td>1.0932</td>\n",
       "      <td>0.1888</td>\n",
       "      <td>0.2922</td>\n",
       "      <td>-1.327744</td>\n",
       "      <td>-0.021927</td>\n",
       "      <td>0.714493</td>\n",
       "      <td>33.741333</td>\n",
       "      <td>0.192261</td>\n",
       "      <td>S10</td>\n",
       "      <td>0</td>\n",
       "      <td>0.0025</td>\n",
       "    </tr>\n",
       "    <tr>\n",
       "      <th>2</th>\n",
       "      <td>1.0354</td>\n",
       "      <td>0.2094</td>\n",
       "      <td>0.1858</td>\n",
       "      <td>-1.322067</td>\n",
       "      <td>-0.009018</td>\n",
       "      <td>0.715637</td>\n",
       "      <td>33.717072</td>\n",
       "      <td>0.205994</td>\n",
       "      <td>S10</td>\n",
       "      <td>0</td>\n",
       "      <td>0.0050</td>\n",
       "    </tr>\n",
       "    <tr>\n",
       "      <th>3</th>\n",
       "      <td>0.9666</td>\n",
       "      <td>0.2118</td>\n",
       "      <td>0.0412</td>\n",
       "      <td>-1.316345</td>\n",
       "      <td>-0.002380</td>\n",
       "      <td>0.714874</td>\n",
       "      <td>33.741333</td>\n",
       "      <td>0.193787</td>\n",
       "      <td>S10</td>\n",
       "      <td>0</td>\n",
       "      <td>0.0075</td>\n",
       "    </tr>\n",
       "    <tr>\n",
       "      <th>4</th>\n",
       "      <td>0.8916</td>\n",
       "      <td>0.2040</td>\n",
       "      <td>-0.1228</td>\n",
       "      <td>-1.310257</td>\n",
       "      <td>0.001053</td>\n",
       "      <td>0.715256</td>\n",
       "      <td>33.747406</td>\n",
       "      <td>0.172424</td>\n",
       "      <td>S10</td>\n",
       "      <td>0</td>\n",
       "      <td>0.0100</td>\n",
       "    </tr>\n",
       "    <tr>\n",
       "      <th>5</th>\n",
       "      <td>0.8358</td>\n",
       "      <td>0.1978</td>\n",
       "      <td>-0.3018</td>\n",
       "      <td>-1.304306</td>\n",
       "      <td>-0.008972</td>\n",
       "      <td>0.713730</td>\n",
       "      <td>33.744385</td>\n",
       "      <td>0.181580</td>\n",
       "      <td>S10</td>\n",
       "      <td>0</td>\n",
       "      <td>0.0125</td>\n",
       "    </tr>\n",
       "    <tr>\n",
       "      <th>6</th>\n",
       "      <td>0.8042</td>\n",
       "      <td>0.1906</td>\n",
       "      <td>-0.4724</td>\n",
       "      <td>-1.298950</td>\n",
       "      <td>-0.037399</td>\n",
       "      <td>0.712967</td>\n",
       "      <td>33.753479</td>\n",
       "      <td>0.196838</td>\n",
       "      <td>S10</td>\n",
       "      <td>0</td>\n",
       "      <td>0.0150</td>\n",
       "    </tr>\n",
       "    <tr>\n",
       "      <th>7</th>\n",
       "      <td>0.7880</td>\n",
       "      <td>0.1834</td>\n",
       "      <td>-0.6210</td>\n",
       "      <td>-1.292908</td>\n",
       "      <td>-0.045181</td>\n",
       "      <td>0.713730</td>\n",
       "      <td>33.717072</td>\n",
       "      <td>0.157166</td>\n",
       "      <td>S10</td>\n",
       "      <td>0</td>\n",
       "      <td>0.0175</td>\n",
       "    </tr>\n",
       "    <tr>\n",
       "      <th>8</th>\n",
       "      <td>0.7880</td>\n",
       "      <td>0.1742</td>\n",
       "      <td>-0.7352</td>\n",
       "      <td>-1.287277</td>\n",
       "      <td>-0.045135</td>\n",
       "      <td>0.711441</td>\n",
       "      <td>33.730713</td>\n",
       "      <td>0.138855</td>\n",
       "      <td>S10</td>\n",
       "      <td>0</td>\n",
       "      <td>0.0200</td>\n",
       "    </tr>\n",
       "    <tr>\n",
       "      <th>9</th>\n",
       "      <td>0.7968</td>\n",
       "      <td>0.1642</td>\n",
       "      <td>-0.8110</td>\n",
       "      <td>-1.281830</td>\n",
       "      <td>-0.046829</td>\n",
       "      <td>0.712585</td>\n",
       "      <td>33.729218</td>\n",
       "      <td>0.160217</td>\n",
       "      <td>S10</td>\n",
       "      <td>0</td>\n",
       "      <td>0.0225</td>\n",
       "    </tr>\n",
       "  </tbody>\n",
       "</table>\n",
       "</div>"
      ],
      "text/plain": [
       "    ACC_x   ACC_y   ACC_z       ECG       EMG       EDA       Temp      Resp  \\\n",
       "0  1.1278  0.1520  0.3416 -1.333694 -0.013687  0.716019  33.695862  0.213623   \n",
       "1  1.0932  0.1888  0.2922 -1.327744 -0.021927  0.714493  33.741333  0.192261   \n",
       "2  1.0354  0.2094  0.1858 -1.322067 -0.009018  0.715637  33.717072  0.205994   \n",
       "3  0.9666  0.2118  0.0412 -1.316345 -0.002380  0.714874  33.741333  0.193787   \n",
       "4  0.8916  0.2040 -0.1228 -1.310257  0.001053  0.715256  33.747406  0.172424   \n",
       "5  0.8358  0.1978 -0.3018 -1.304306 -0.008972  0.713730  33.744385  0.181580   \n",
       "6  0.8042  0.1906 -0.4724 -1.298950 -0.037399  0.712967  33.753479  0.196838   \n",
       "7  0.7880  0.1834 -0.6210 -1.292908 -0.045181  0.713730  33.717072  0.157166   \n",
       "8  0.7880  0.1742 -0.7352 -1.287277 -0.045135  0.711441  33.730713  0.138855   \n",
       "9  0.7968  0.1642 -0.8110 -1.281830 -0.046829  0.712585  33.729218  0.160217   \n",
       "\n",
       "  subject  label    time  \n",
       "0     S10      0  0.0000  \n",
       "1     S10      0  0.0025  \n",
       "2     S10      0  0.0050  \n",
       "3     S10      0  0.0075  \n",
       "4     S10      0  0.0100  \n",
       "5     S10      0  0.0125  \n",
       "6     S10      0  0.0150  \n",
       "7     S10      0  0.0175  \n",
       "8     S10      0  0.0200  \n",
       "9     S10      0  0.0225  "
      ]
     },
     "execution_count": 5,
     "metadata": {},
     "output_type": "execute_result"
    }
   ],
   "source": [
    "import numpy as np\n",
    "import pandas as pd\n",
    "from scipy.signal import decimate\n",
    "\n",
    "# --- Setup ---\n",
    "fs = 700  # original sampling rate in Hz\n",
    "target_fs = 400  # desired fixed downsample rate\n",
    "downsample_factor = int(fs // target_fs)\n",
    "\n",
    "sensor_columns = ['ACC_x', 'ACC_y', 'ACC_z', 'ECG', 'EMG', 'EDA', 'Temp', 'Resp']\n",
    "downsampled_subject_dfs = []\n",
    "\n",
    "for subject_id, df_subj in combined_chest_df.groupby('subject'):\n",
    "    downsampled_sensors = {}\n",
    "    max_len = None\n",
    "\n",
    "    for sensor in sensor_columns:\n",
    "        signal = df_subj[sensor].dropna().values\n",
    "        \n",
    "        if downsample_factor > 1:\n",
    "            downsampled_signal = decimate(signal, downsample_factor, ftype='fir', zero_phase=True)\n",
    "        else:\n",
    "            downsampled_signal = signal\n",
    "        \n",
    "        downsampled_sensors[sensor] = downsampled_signal\n",
    "\n",
    "        if max_len is None:\n",
    "            max_len = len(downsampled_signal)\n",
    "        else:\n",
    "            max_len = min(max_len, len(downsampled_signal))\n",
    "\n",
    "    # --- Downsample Labels ---\n",
    "    labels = df_subj['label'].values\n",
    "    downsampled_labels = labels[::downsample_factor][:max_len]\n",
    "\n",
    "    # --- Align all signals to min length ---\n",
    "    for sensor in sensor_columns:\n",
    "        downsampled_sensors[sensor] = downsampled_sensors[sensor][:max_len]\n",
    "\n",
    "    df_downsampled_subj = pd.DataFrame(downsampled_sensors)\n",
    "    df_downsampled_subj['subject'] = subject_id\n",
    "    df_downsampled_subj['label'] = downsampled_labels\n",
    "    df_downsampled_subj['time'] = np.arange(max_len) / target_fs\n",
    "\n",
    "    downsampled_subject_dfs.append(df_downsampled_subj)\n",
    "\n",
    "# --- Combine all ---\n",
    "df1 = pd.concat(downsampled_subject_dfs, ignore_index=True)\n",
    "\n",
    "df1.head(10)\n"
   ]
  },
  {
   "cell_type": "code",
   "execution_count": 6,
   "id": "84060929",
   "metadata": {
    "execution": {
     "iopub.execute_input": "2025-06-08T15:22:11.484031Z",
     "iopub.status.busy": "2025-06-08T15:22:11.483528Z",
     "iopub.status.idle": "2025-06-08T15:22:11.718946Z",
     "shell.execute_reply": "2025-06-08T15:22:11.718343Z"
    },
    "papermill": {
     "duration": 0.247591,
     "end_time": "2025-06-08T15:22:11.720044",
     "exception": false,
     "start_time": "2025-06-08T15:22:11.472453",
     "status": "completed"
    },
    "tags": []
   },
   "outputs": [
    {
     "data": {
      "text/plain": [
       "label\n",
       "0    18254600\n",
       "1     8188602\n",
       "4     5492198\n",
       "2     4701201\n",
       "3     2600501\n",
       "Name: count, dtype: int64"
      ]
     },
     "execution_count": 6,
     "metadata": {},
     "output_type": "execute_result"
    }
   ],
   "source": [
    "df1['label'].value_counts()"
   ]
  },
  {
   "cell_type": "code",
   "execution_count": 7,
   "id": "5ce9fa32",
   "metadata": {
    "execution": {
     "iopub.execute_input": "2025-06-08T15:22:11.743452Z",
     "iopub.status.busy": "2025-06-08T15:22:11.743238Z",
     "iopub.status.idle": "2025-06-08T15:22:11.747562Z",
     "shell.execute_reply": "2025-06-08T15:22:11.747016Z"
    },
    "papermill": {
     "duration": 0.01711,
     "end_time": "2025-06-08T15:22:11.748598",
     "exception": false,
     "start_time": "2025-06-08T15:22:11.731488",
     "status": "completed"
    },
    "tags": []
   },
   "outputs": [
    {
     "data": {
      "text/plain": [
       "Index(['ACC_x', 'ACC_y', 'ACC_z', 'ECG', 'EMG', 'EDA', 'Temp', 'Resp',\n",
       "       'subject', 'label', 'time'],\n",
       "      dtype='object')"
      ]
     },
     "execution_count": 7,
     "metadata": {},
     "output_type": "execute_result"
    }
   ],
   "source": [
    "df1.columns"
   ]
  },
  {
   "cell_type": "code",
   "execution_count": 8,
   "id": "d46934d9",
   "metadata": {
    "execution": {
     "iopub.execute_input": "2025-06-08T15:22:11.772059Z",
     "iopub.status.busy": "2025-06-08T15:22:11.771866Z",
     "iopub.status.idle": "2025-06-08T15:22:18.867731Z",
     "shell.execute_reply": "2025-06-08T15:22:18.866895Z"
    },
    "papermill": {
     "duration": 7.108798,
     "end_time": "2025-06-08T15:22:18.868979",
     "exception": false,
     "start_time": "2025-06-08T15:22:11.760181",
     "status": "completed"
    },
    "tags": []
   },
   "outputs": [
    {
     "name": "stdout",
     "output_type": "stream",
     "text": [
      "Requirement already satisfied: numpy in /usr/local/lib/python3.11/dist-packages (1.26.4)\r\n",
      "Requirement already satisfied: scipy in /usr/local/lib/python3.11/dist-packages (1.15.2)\r\n",
      "Collecting neurokit2\r\n",
      "  Downloading neurokit2-0.2.11-py2.py3-none-any.whl.metadata (37 kB)\r\n",
      "Collecting antropy\r\n",
      "  Downloading antropy-0.1.9-py3-none-any.whl.metadata (6.6 kB)\r\n",
      "Collecting heartpy\r\n",
      "  Downloading heartpy-1.2.7-py3-none-any.whl.metadata (9.5 kB)\r\n",
      "Requirement already satisfied: mkl_fft in /usr/local/lib/python3.11/dist-packages (from numpy) (1.3.8)\r\n",
      "Requirement already satisfied: mkl_random in /usr/local/lib/python3.11/dist-packages (from numpy) (1.2.4)\r\n",
      "Requirement already satisfied: mkl_umath in /usr/local/lib/python3.11/dist-packages (from numpy) (0.1.1)\r\n",
      "Requirement already satisfied: mkl in /usr/local/lib/python3.11/dist-packages (from numpy) (2025.1.0)\r\n",
      "Requirement already satisfied: tbb4py in /usr/local/lib/python3.11/dist-packages (from numpy) (2022.1.0)\r\n",
      "Requirement already satisfied: mkl-service in /usr/local/lib/python3.11/dist-packages (from numpy) (2.4.1)\r\n",
      "Requirement already satisfied: requests in /usr/local/lib/python3.11/dist-packages (from neurokit2) (2.32.3)\r\n",
      "Requirement already satisfied: pandas in /usr/local/lib/python3.11/dist-packages (from neurokit2) (2.2.3)\r\n",
      "Requirement already satisfied: scikit-learn>=1.0.0 in /usr/local/lib/python3.11/dist-packages (from neurokit2) (1.2.2)\r\n",
      "Requirement already satisfied: matplotlib>=3.5.0 in /usr/local/lib/python3.11/dist-packages (from neurokit2) (3.7.5)\r\n",
      "Requirement already satisfied: numba>=0.57 in /usr/local/lib/python3.11/dist-packages (from antropy) (0.60.0)\r\n",
      "Requirement already satisfied: contourpy>=1.0.1 in /usr/local/lib/python3.11/dist-packages (from matplotlib>=3.5.0->neurokit2) (1.3.1)\r\n",
      "Requirement already satisfied: cycler>=0.10 in /usr/local/lib/python3.11/dist-packages (from matplotlib>=3.5.0->neurokit2) (0.12.1)\r\n",
      "Requirement already satisfied: fonttools>=4.22.0 in /usr/local/lib/python3.11/dist-packages (from matplotlib>=3.5.0->neurokit2) (4.56.0)\r\n",
      "Requirement already satisfied: kiwisolver>=1.0.1 in /usr/local/lib/python3.11/dist-packages (from matplotlib>=3.5.0->neurokit2) (1.4.8)\r\n",
      "Requirement already satisfied: packaging>=20.0 in /usr/local/lib/python3.11/dist-packages (from matplotlib>=3.5.0->neurokit2) (24.2)\r\n",
      "Requirement already satisfied: pillow>=6.2.0 in /usr/local/lib/python3.11/dist-packages (from matplotlib>=3.5.0->neurokit2) (11.1.0)\r\n",
      "Requirement already satisfied: pyparsing>=2.3.1 in /usr/local/lib/python3.11/dist-packages (from matplotlib>=3.5.0->neurokit2) (3.2.1)\r\n",
      "Requirement already satisfied: python-dateutil>=2.7 in /usr/local/lib/python3.11/dist-packages (from matplotlib>=3.5.0->neurokit2) (2.9.0.post0)\r\n",
      "Requirement already satisfied: llvmlite<0.44,>=0.43.0dev0 in /usr/local/lib/python3.11/dist-packages (from numba>=0.57->antropy) (0.43.0)\r\n",
      "Requirement already satisfied: joblib>=1.1.1 in /usr/local/lib/python3.11/dist-packages (from scikit-learn>=1.0.0->neurokit2) (1.4.2)\r\n",
      "Requirement already satisfied: threadpoolctl>=2.0.0 in /usr/local/lib/python3.11/dist-packages (from scikit-learn>=1.0.0->neurokit2) (3.6.0)\r\n",
      "Requirement already satisfied: intel-openmp<2026,>=2024 in /usr/local/lib/python3.11/dist-packages (from mkl->numpy) (2024.2.0)\r\n",
      "Requirement already satisfied: tbb==2022.* in /usr/local/lib/python3.11/dist-packages (from mkl->numpy) (2022.1.0)\r\n",
      "Requirement already satisfied: tcmlib==1.* in /usr/local/lib/python3.11/dist-packages (from tbb==2022.*->mkl->numpy) (1.2.0)\r\n",
      "Requirement already satisfied: intel-cmplr-lib-rt in /usr/local/lib/python3.11/dist-packages (from mkl_umath->numpy) (2024.2.0)\r\n",
      "Requirement already satisfied: pytz>=2020.1 in /usr/local/lib/python3.11/dist-packages (from pandas->neurokit2) (2025.2)\r\n",
      "Requirement already satisfied: tzdata>=2022.7 in /usr/local/lib/python3.11/dist-packages (from pandas->neurokit2) (2025.2)\r\n",
      "Requirement already satisfied: charset-normalizer<4,>=2 in /usr/local/lib/python3.11/dist-packages (from requests->neurokit2) (3.4.1)\r\n",
      "Requirement already satisfied: idna<4,>=2.5 in /usr/local/lib/python3.11/dist-packages (from requests->neurokit2) (3.10)\r\n",
      "Requirement already satisfied: urllib3<3,>=1.21.1 in /usr/local/lib/python3.11/dist-packages (from requests->neurokit2) (2.3.0)\r\n",
      "Requirement already satisfied: certifi>=2017.4.17 in /usr/local/lib/python3.11/dist-packages (from requests->neurokit2) (2025.1.31)\r\n",
      "Requirement already satisfied: intel-cmplr-lib-ur==2024.2.0 in /usr/local/lib/python3.11/dist-packages (from intel-openmp<2026,>=2024->mkl->numpy) (2024.2.0)\r\n",
      "Requirement already satisfied: six>=1.5 in /usr/local/lib/python3.11/dist-packages (from python-dateutil>=2.7->matplotlib>=3.5.0->neurokit2) (1.17.0)\r\n",
      "Downloading neurokit2-0.2.11-py2.py3-none-any.whl (696 kB)\r\n",
      "\u001b[2K   \u001b[90m━━━━━━━━━━━━━━━━━━━━━━━━━━━━━━━━━━━━━━━━\u001b[0m \u001b[32m696.5/696.5 kB\u001b[0m \u001b[31m11.8 MB/s\u001b[0m eta \u001b[36m0:00:00\u001b[0m\r\n",
      "\u001b[?25hDownloading antropy-0.1.9-py3-none-any.whl (18 kB)\r\n",
      "Downloading heartpy-1.2.7-py3-none-any.whl (1.0 MB)\r\n",
      "\u001b[2K   \u001b[90m━━━━━━━━━━━━━━━━━━━━━━━━━━━━━━━━━━━━━━━━\u001b[0m \u001b[32m1.0/1.0 MB\u001b[0m \u001b[31m23.1 MB/s\u001b[0m eta \u001b[36m0:00:00\u001b[0m\r\n",
      "\u001b[?25hInstalling collected packages: neurokit2, heartpy, antropy\r\n",
      "Successfully installed antropy-0.1.9 heartpy-1.2.7 neurokit2-0.2.11\r\n",
      "Note: you may need to restart the kernel to use updated packages.\n"
     ]
    }
   ],
   "source": [
    "pip install numpy scipy neurokit2 antropy heartpy"
   ]
  },
  {
   "cell_type": "code",
   "execution_count": 9,
   "id": "b49513ff",
   "metadata": {
    "execution": {
     "iopub.execute_input": "2025-06-08T15:22:18.936698Z",
     "iopub.status.busy": "2025-06-08T15:22:18.936139Z",
     "iopub.status.idle": "2025-06-08T15:22:31.091861Z",
     "shell.execute_reply": "2025-06-08T15:22:31.090788Z"
    },
    "papermill": {
     "duration": 12.212284,
     "end_time": "2025-06-08T15:22:31.093222",
     "exception": false,
     "start_time": "2025-06-08T15:22:18.880938",
     "status": "completed"
    },
    "tags": []
   },
   "outputs": [
    {
     "name": "stdout",
     "output_type": "stream",
     "text": [
      "Requirement already satisfied: scipy in /usr/local/lib/python3.11/dist-packages (1.15.2)\r\n",
      "Collecting scipy\r\n",
      "  Downloading scipy-1.15.3-cp311-cp311-manylinux_2_17_x86_64.manylinux2014_x86_64.whl.metadata (61 kB)\r\n",
      "\u001b[2K     \u001b[90m━━━━━━━━━━━━━━━━━━━━━━━━━━━━━━━━━━━━━━━━\u001b[0m \u001b[32m62.0/62.0 kB\u001b[0m \u001b[31m1.7 MB/s\u001b[0m eta \u001b[36m0:00:00\u001b[0m\r\n",
      "\u001b[?25hRequirement already satisfied: numpy<2.5,>=1.23.5 in /usr/local/lib/python3.11/dist-packages (from scipy) (1.26.4)\r\n",
      "Requirement already satisfied: mkl_fft in /usr/local/lib/python3.11/dist-packages (from numpy<2.5,>=1.23.5->scipy) (1.3.8)\r\n",
      "Requirement already satisfied: mkl_random in /usr/local/lib/python3.11/dist-packages (from numpy<2.5,>=1.23.5->scipy) (1.2.4)\r\n",
      "Requirement already satisfied: mkl_umath in /usr/local/lib/python3.11/dist-packages (from numpy<2.5,>=1.23.5->scipy) (0.1.1)\r\n",
      "Requirement already satisfied: mkl in /usr/local/lib/python3.11/dist-packages (from numpy<2.5,>=1.23.5->scipy) (2025.1.0)\r\n",
      "Requirement already satisfied: tbb4py in /usr/local/lib/python3.11/dist-packages (from numpy<2.5,>=1.23.5->scipy) (2022.1.0)\r\n",
      "Requirement already satisfied: mkl-service in /usr/local/lib/python3.11/dist-packages (from numpy<2.5,>=1.23.5->scipy) (2.4.1)\r\n",
      "Requirement already satisfied: intel-openmp<2026,>=2024 in /usr/local/lib/python3.11/dist-packages (from mkl->numpy<2.5,>=1.23.5->scipy) (2024.2.0)\r\n",
      "Requirement already satisfied: tbb==2022.* in /usr/local/lib/python3.11/dist-packages (from mkl->numpy<2.5,>=1.23.5->scipy) (2022.1.0)\r\n",
      "Requirement already satisfied: tcmlib==1.* in /usr/local/lib/python3.11/dist-packages (from tbb==2022.*->mkl->numpy<2.5,>=1.23.5->scipy) (1.2.0)\r\n",
      "Requirement already satisfied: intel-cmplr-lib-rt in /usr/local/lib/python3.11/dist-packages (from mkl_umath->numpy<2.5,>=1.23.5->scipy) (2024.2.0)\r\n",
      "Requirement already satisfied: intel-cmplr-lib-ur==2024.2.0 in /usr/local/lib/python3.11/dist-packages (from intel-openmp<2026,>=2024->mkl->numpy<2.5,>=1.23.5->scipy) (2024.2.0)\r\n",
      "Downloading scipy-1.15.3-cp311-cp311-manylinux_2_17_x86_64.manylinux2014_x86_64.whl (37.7 MB)\r\n",
      "\u001b[2K   \u001b[90m━━━━━━━━━━━━━━━━━━━━━━━━━━━━━━━━━━━━━━━━\u001b[0m \u001b[32m37.7/37.7 MB\u001b[0m \u001b[31m45.3 MB/s\u001b[0m eta \u001b[36m0:00:00\u001b[0m\r\n",
      "\u001b[?25hInstalling collected packages: scipy\r\n",
      "  Attempting uninstall: scipy\r\n",
      "    Found existing installation: scipy 1.15.2\r\n",
      "    Uninstalling scipy-1.15.2:\r\n",
      "      Successfully uninstalled scipy-1.15.2\r\n",
      "\u001b[31mERROR: pip's dependency resolver does not currently take into account all the packages that are installed. This behaviour is the source of the following dependency conflicts.\r\n",
      "nilearn 0.11.1 requires scikit-learn>=1.4.0, but you have scikit-learn 1.2.2 which is incompatible.\r\n",
      "gensim 4.3.3 requires scipy<1.14.0,>=1.7.0, but you have scipy 1.15.3 which is incompatible.\r\n",
      "bigframes 1.36.0 requires rich<14,>=12.4.4, but you have rich 14.0.0 which is incompatible.\r\n",
      "imbalanced-learn 0.13.0 requires scikit-learn<2,>=1.3.2, but you have scikit-learn 1.2.2 which is incompatible.\r\n",
      "plotnine 0.14.5 requires matplotlib>=3.8.0, but you have matplotlib 3.7.5 which is incompatible.\r\n",
      "mlxtend 0.23.4 requires scikit-learn>=1.3.1, but you have scikit-learn 1.2.2 which is incompatible.\u001b[0m\u001b[31m\r\n",
      "\u001b[0mSuccessfully installed scipy-1.15.3\r\n",
      "Note: you may need to restart the kernel to use updated packages.\n"
     ]
    }
   ],
   "source": [
    "pip install --upgrade scipy"
   ]
  },
  {
   "cell_type": "code",
   "execution_count": 10,
   "id": "bb2c50f4",
   "metadata": {
    "execution": {
     "iopub.execute_input": "2025-06-08T15:22:31.120950Z",
     "iopub.status.busy": "2025-06-08T15:22:31.120689Z",
     "iopub.status.idle": "2025-06-08T15:22:34.728011Z",
     "shell.execute_reply": "2025-06-08T15:22:34.727390Z"
    },
    "papermill": {
     "duration": 3.622759,
     "end_time": "2025-06-08T15:22:34.729457",
     "exception": false,
     "start_time": "2025-06-08T15:22:31.106698",
     "status": "completed"
    },
    "tags": []
   },
   "outputs": [],
   "source": [
    "df1=df1.drop(columns=['subject','time'])"
   ]
  },
  {
   "cell_type": "markdown",
   "id": "0062fd33",
   "metadata": {
    "papermill": {
     "duration": 0.012781,
     "end_time": "2025-06-08T15:22:34.755750",
     "exception": false,
     "start_time": "2025-06-08T15:22:34.742969",
     "status": "completed"
    },
    "tags": []
   },
   "source": [
    "# Feature Extraction"
   ]
  },
  {
   "cell_type": "code",
   "execution_count": 11,
   "id": "7e46eabf",
   "metadata": {
    "execution": {
     "iopub.execute_input": "2025-06-08T15:22:34.783050Z",
     "iopub.status.busy": "2025-06-08T15:22:34.782793Z",
     "iopub.status.idle": "2025-06-08T15:22:34.809293Z",
     "shell.execute_reply": "2025-06-08T15:22:34.808539Z"
    },
    "papermill": {
     "duration": 0.04183,
     "end_time": "2025-06-08T15:22:34.810492",
     "exception": false,
     "start_time": "2025-06-08T15:22:34.768662",
     "status": "completed"
    },
    "tags": []
   },
   "outputs": [],
   "source": [
    "def extract_features(df_window, sensor_columns):\n",
    "    \"\"\"\n",
    "    Extract features from a window of sensor data with comprehensive error handling\n",
    "    \"\"\"\n",
    "    features = {}\n",
    "    epsilon = 1e-10  # Small positive constant to prevent division by zero\n",
    "    \n",
    "    # Helper function to get sensor data\n",
    "    def get_sensor_data(sensor_prefix):\n",
    "        return [col for col in sensor_columns if col.startswith(sensor_prefix)]\n",
    "    \n",
    "    # Helper function to safely calculate sampling frequency\n",
    "    def get_sampling_frequency():\n",
    "        try:\n",
    "            time_diff = (df_window.index[1] - df_window.index[0]).total_seconds()\n",
    "            return 1/max(time_diff, epsilon)\n",
    "        except:\n",
    "            return 1/epsilon  # Fallback value\n",
    "    \n",
    "    # ACC features (4 features)\n",
    "    acc_cols = get_sensor_data('ACC')\n",
    "    if acc_cols:\n",
    "        for axis in ['x', 'y', 'z']:\n",
    "            axis_col = next((col for col in acc_cols if axis in col.lower()), None)\n",
    "            if axis_col and len(df_window[axis_col]) > 1:  # Need at least 2 samples\n",
    "                acc_data = df_window[axis_col].dropna()\n",
    "                if len(acc_data) < 2:\n",
    "                    continue\n",
    "                    \n",
    "                features[f'ACC_{axis}_mean'] = acc_data.mean()\n",
    "                features[f'ACC_{axis}_std'] = acc_data.std()\n",
    "                features[f'ACC_{axis}_abs_integral'] = np.trapz(np.abs(acc_data))\n",
    "                \n",
    "                try:\n",
    "                    fs = get_sampling_frequency()\n",
    "                    f, Pxx = signal.welch(acc_data, fs=fs)\n",
    "                    features[f'ACC_{axis}_peak_freq'] = f[np.argmax(Pxx)] if len(Pxx) > 0 else 0\n",
    "                except:\n",
    "                    features[f'ACC_{axis}_peak_freq'] = 0\n",
    "    \n",
    "    # ECG features (17 features)\n",
    "    ecg_cols = get_sensor_data('ECG')\n",
    "    if ecg_cols and len(df_window[ecg_cols[0]]) > 1:\n",
    "        ecg_data = df_window[ecg_cols[0]].dropna()\n",
    "        if len(ecg_data) > 1:\n",
    "            # Time-domain HRV features\n",
    "            rr_intervals = np.diff(ecg_data.index).astype('timedelta64[s]').astype(float)\n",
    "            valid_rr = rr_intervals > 0\n",
    "            \n",
    "            features['ECG_HR_mean'] = 60/np.mean(rr_intervals[valid_rr]) if np.any(valid_rr) else 0\n",
    "            features['ECG_SDNN'] = np.std(rr_intervals[valid_rr]) if np.any(valid_rr) else 0\n",
    "            \n",
    "            if len(rr_intervals) > 1:\n",
    "                diff_rr = np.diff(rr_intervals)\n",
    "                features['ECG_RMSSD'] = np.sqrt(np.mean(np.square(diff_rr)))\n",
    "                nn50 = np.sum(np.abs(diff_rr) > 0.05)\n",
    "                features['ECG_NN50'] = nn50\n",
    "                features['ECG_pNN50'] = nn50/len(diff_rr) if len(diff_rr) > 0 else 0\n",
    "                features['ECG_TINN'] = np.percentile(rr_intervals, 75) - np.percentile(rr_intervals, 25)\n",
    "            else:\n",
    "                for f in ['ECG_RMSSD', 'ECG_NN50', 'ECG_pNN50', 'ECG_TINN']:\n",
    "                    features[f] = 0\n",
    "            \n",
    "            # Frequency-domain HRV features\n",
    "            try:\n",
    "                fs = get_sampling_frequency()\n",
    "                f, Pxx = signal.welch(ecg_data, fs=fs)\n",
    "                \n",
    "                vlf_band = (0.003, 0.04)\n",
    "                lf_band = (0.04, 0.15)\n",
    "                hf_band = (0.15, 0.4)\n",
    "                \n",
    "                vlf_power = np.trapz(Pxx[(f >= vlf_band[0]) & (f < vlf_band[1])])\n",
    "                lf_power = np.trapz(Pxx[(f >= lf_band[0]) & (f < lf_band[1])])\n",
    "                hf_power = np.trapz(Pxx[(f >= hf_band[0]) & (f < hf_band[1])])\n",
    "                total_power = vlf_power + lf_power + hf_power + epsilon\n",
    "                \n",
    "                features.update({\n",
    "                    'ECG_VLF_energy': vlf_power,\n",
    "                    'ECG_LF_energy': lf_power,\n",
    "                    'ECG_HF_energy': hf_power,\n",
    "                    'ECG_LF_HF_ratio': lf_power/(hf_power + epsilon),\n",
    "                    'ECG_LF_norm': lf_power/total_power,\n",
    "                    'ECG_HF_norm': hf_power/total_power,\n",
    "                    'ECG_relative_power': (lf_power + hf_power)/total_power\n",
    "                })\n",
    "            except:\n",
    "                for f in ['ECG_VLF_energy', 'ECG_LF_energy', 'ECG_HF_energy',\n",
    "                         'ECG_LF_HF_ratio', 'ECG_LF_norm', 'ECG_HF_norm', 'ECG_relative_power']:\n",
    "                    features[f] = 0\n",
    "            \n",
    "            # Nonlinear features\n",
    "            if len(rr_intervals) > 1:\n",
    "                try:\n",
    "                    diff_rr = np.diff(rr_intervals)\n",
    "                    sd1 = np.std(diff_rr)/np.sqrt(2)\n",
    "                    sd2 = np.std(rr_intervals[:-1] + rr_intervals[1:])/np.sqrt(2)\n",
    "                    hist, _ = np.histogram(rr_intervals, bins='auto')\n",
    "                    features.update({\n",
    "                        'ECG_SD1': sd1,\n",
    "                        'ECG_SD2': sd2,\n",
    "                        'ECG_entropy': entropy(hist) if np.any(hist) else 0\n",
    "                    })\n",
    "                except:\n",
    "                    for f in ['ECG_SD1', 'ECG_SD2', 'ECG_entropy']:\n",
    "                        features[f] = 0\n",
    "\n",
    "    # EDA features (12 features)\n",
    "    eda_cols = get_sensor_data('EDA')\n",
    "    if eda_cols and len(df_window[eda_cols[0]]) > 1:\n",
    "        eda_data = df_window[eda_cols[0]].dropna()\n",
    "        if len(eda_data) > 1:\n",
    "            features['EDA_mean'] = eda_data.mean()\n",
    "            features['EDA_std'] = eda_data.std()\n",
    "            \n",
    "            try:\n",
    "                peaks, _ = find_peaks(eda_data, height=0.05, distance=10)\n",
    "                features['EDA_SCR_count'] = len(peaks)\n",
    "                features['EDA_SCR_amplitude'] = np.mean(eda_data.iloc[peaks]) if len(peaks) > 0 else 0\n",
    "                features['EDA_SCR_duration'] = len(eda_data)/max(len(peaks), 1)\n",
    "                features['EDA_SCR_slope'] = np.mean(np.gradient(eda_data.iloc[peaks])) if len(peaks) > 0 else 0\n",
    "                features['EDA_dynamic_range'] = eda_data.max() - eda_data.min()\n",
    "            except:\n",
    "                for f in ['EDA_SCR_count', 'EDA_SCR_amplitude', 'EDA_SCR_duration', \n",
    "                         'EDA_SCR_slope', 'EDA_dynamic_range']:\n",
    "                    features[f] = 0\n",
    "\n",
    "    # EMG features (14 features)\n",
    "    emg_cols = get_sensor_data('EMG')\n",
    "    if emg_cols and len(df_window[emg_cols[0]]) > 1:\n",
    "        emg_data = df_window[emg_cols[0]].dropna()\n",
    "        if len(emg_data) > 1:\n",
    "            features['EMG_mean'] = emg_data.mean()\n",
    "            features['EMG_std'] = emg_data.std()\n",
    "            features['EMG_dynamic_range'] = emg_data.max() - emg_data.min()\n",
    "            \n",
    "            try:\n",
    "                zero_crossings = np.where(np.diff(np.sign(emg_data - emg_data.mean())))[0]\n",
    "                features['EMG_ZCR'] = len(zero_crossings)/len(emg_data)\n",
    "                \n",
    "                peaks, _ = find_peaks(emg_data, height=emg_data.mean() + emg_data.std())\n",
    "                features.update({\n",
    "                    'EMG_peaks': len(peaks),\n",
    "                    'EMG_signal_energy': np.sum(emg_data**2),\n",
    "                    'EMG_amplitude_mean': np.mean(emg_data.iloc[peaks]) if len(peaks) > 0 else 0,\n",
    "                    'EMG_amplitude_std': np.std(emg_data.iloc[peaks]) if len(peaks) > 0 else 0,\n",
    "                    'EMG_amplitude_max': np.max(emg_data.iloc[peaks]) if len(peaks) > 0 else 0,\n",
    "                    'EMG_amplitude_min': np.min(emg_data.iloc[peaks]) if len(peaks) > 0 else 0,\n",
    "\n",
    "                })\n",
    "            except:\n",
    "                for f in ['EMG_ZCR', 'EMG_peaks', 'EMG_signal_energy',\n",
    "                         'EMG_amplitude_mean', 'EMG_amplitude_std',\n",
    "                         'EMG_amplitude_max', 'EMG_amplitude_min']:\n",
    "                    features[f] = 0\n",
    "\n",
    "    # RESP features (7 features)\n",
    "    resp_cols = get_sensor_data('Resp')\n",
    "    if resp_cols and len(df_window[resp_cols[0]]) > 1:\n",
    "        resp_data = df_window[resp_cols[0]].dropna()\n",
    "        if len(resp_data) > 1:\n",
    "            try:\n",
    "                peaks, _ = find_peaks(resp_data)\n",
    "                valleys, _ = find_peaks(-resp_data)\n",
    "                \n",
    "                if len(peaks) > 1 and len(valleys) > 1:\n",
    "                    inhale_durations = np.diff(valleys)\n",
    "                    exhale_durations = np.diff(peaks)\n",
    "                    time_unit = (df_window.index[1] - df_window.index[0]).total_seconds()\n",
    "                    \n",
    "                    features.update({\n",
    "                        'Resp_inhale_mean': np.mean(inhale_durations),\n",
    "                        'Resp_inhale_std': np.std(inhale_durations),\n",
    "                        'Resp_exhale_mean': np.mean(exhale_durations),\n",
    "                        'Resp_exhale_std': np.std(exhale_durations),\n",
    "                        'Resp_duration_ratio': np.mean(inhale_durations)/max(np.mean(exhale_durations), epsilon),\n",
    "                        'Resp_stretch': np.mean(resp_data[peaks]) - np.mean(resp_data[valleys]),\n",
    "                        'Resp_rate': 60/(max(np.mean(np.diff(peaks)) * time_unit, epsilon))\n",
    "                    })\n",
    "                else:\n",
    "                    for f in ['Resp_inhale_mean', 'Resp_inhale_std', 'Resp_exhale_mean',\n",
    "                             'Resp_exhale_std', 'Resp_duration_ratio', 'Resp_stretch', 'Resp_rate']:\n",
    "                        features[f] = 0\n",
    "            except:\n",
    "                for f in ['Resp_inhale_mean', 'Resp_inhale_std', 'Resp_exhale_mean',\n",
    "                         'Resp_exhale_std', 'Resp_duration_ratio', 'RESP_stretch', 'RESP_rate']:\n",
    "                    features[f] = 0\n",
    "\n",
    "    # TEMP features (6 features)\n",
    "    temp_cols = get_sensor_data('Temp')\n",
    "    if temp_cols and len(df_window[temp_cols[0]]) > 1:\n",
    "        temp_data = df_window[temp_cols[0]].dropna()\n",
    "        if len(temp_data) > 1:\n",
    "            features.update({\n",
    "                'Temp_mean': temp_data.mean(),\n",
    "                'Temp_std': temp_data.std(),\n",
    "                'Temp_min': temp_data.min(),\n",
    "                'Temp_max': temp_data.max(),\n",
    "                'Temp_range': temp_data.max() - temp_data.min()\n",
    "            })\n",
    "            \n",
    "            try:\n",
    "                x = np.arange(len(temp_data))\n",
    "                slope, _, _, _, _ = stats.linregress(x, temp_data)\n",
    "                features['Temp_slope'] = slope\n",
    "            except:\n",
    "                features['Temp_slope'] = 0\n",
    "    \n",
    "    return features"
   ]
  },
  {
   "cell_type": "markdown",
   "id": "92b4fb81",
   "metadata": {
    "papermill": {
     "duration": 0.012852,
     "end_time": "2025-06-08T15:22:34.836669",
     "exception": false,
     "start_time": "2025-06-08T15:22:34.823817",
     "status": "completed"
    },
    "tags": []
   },
   "source": [
    "# Rolling Windows"
   ]
  },
  {
   "cell_type": "code",
   "execution_count": 12,
   "id": "f5275423",
   "metadata": {
    "execution": {
     "iopub.execute_input": "2025-06-08T15:22:34.863929Z",
     "iopub.status.busy": "2025-06-08T15:22:34.863696Z",
     "iopub.status.idle": "2025-06-08T15:22:34.870342Z",
     "shell.execute_reply": "2025-06-08T15:22:34.869618Z"
    },
    "papermill": {
     "duration": 0.021447,
     "end_time": "2025-06-08T15:22:34.871463",
     "exception": false,
     "start_time": "2025-06-08T15:22:34.850016",
     "status": "completed"
    },
    "tags": []
   },
   "outputs": [],
   "source": [
    "def process_rolling_windows(df, sampling_rate=400, window_size_sec=60, overlap=0.5, verbose=True):\n",
    "    \"\"\"\n",
    "    Process dataframe using fixed sampling rate\n",
    "    \n",
    "    Args:\n",
    "        df: Input DataFrame (must be time-indexed)\n",
    "        sampling_rate: Samples per second (400Hz)\n",
    "        window_size_sec: Window duration in seconds\n",
    "        overlap: Fraction of window overlap (0-1)\n",
    "        verbose: Whether to show progress\n",
    "    \"\"\"\n",
    "    # Validate input\n",
    "    if len(df) == 0:\n",
    "        raise ValueError(\"Input dataframe is empty\")\n",
    "    \n",
    "    if not isinstance(df.index, pd.DatetimeIndex):\n",
    "        try:\n",
    "            df.index = pd.to_datetime(df.index)\n",
    "        except Exception as e:\n",
    "            raise ValueError(f\"Could not convert index to datetime: {str(e)}\")\n",
    "    \n",
    "    # Calculate window parameters\n",
    "    window_size_samples = int(window_size_sec * sampling_rate)\n",
    "    step_size_samples = int(window_size_samples * (1 - overlap))\n",
    "    total_samples = len(df)\n",
    "    \n",
    "    if window_size_samples > total_samples:\n",
    "        raise ValueError(f\"Window size ({window_size_samples} samples) exceeds data length ({total_samples} samples)\")\n",
    "    \n",
    "    # Calculate total windows\n",
    "    total_windows = ((total_samples - window_size_samples) // step_size_samples) + 1\n",
    "    \n",
    "    if verbose:\n",
    "        print(f\"Processing {total_windows} windows ({window_size_sec}s at {sampling_rate}Hz, {overlap*100}% overlap)\")\n",
    "    \n",
    "    # Process each window\n",
    "    results = []\n",
    "    for i in range(total_windows):\n",
    "        start_idx = i * step_size_samples\n",
    "        end_idx = start_idx + window_size_samples\n",
    "        window_df = df.iloc[start_idx:end_idx]\n",
    "        \n",
    "        if len(window_df) == window_size_samples:\n",
    "            results.append(window_df)  # Just store the window for this simplified version\n",
    "            \n",
    "        if verbose and (i+1) % max(1, total_windows//10) == 0:  # Update every ~10%\n",
    "            print(f\"Processed {i+1}/{total_windows} windows ({(i+1)/total_windows*100:.1f}%)\")\n",
    "    \n",
    "    if verbose:\n",
    "        print(f\"Completed {len(results)}/{total_windows} windows\")\n",
    "    \n",
    "    return results"
   ]
  },
  {
   "cell_type": "code",
   "execution_count": 13,
   "id": "03ab3008",
   "metadata": {
    "execution": {
     "iopub.execute_input": "2025-06-08T15:22:34.898723Z",
     "iopub.status.busy": "2025-06-08T15:22:34.898520Z",
     "iopub.status.idle": "2025-06-08T15:22:34.903331Z",
     "shell.execute_reply": "2025-06-08T15:22:34.902760Z"
    },
    "papermill": {
     "duration": 0.019561,
     "end_time": "2025-06-08T15:22:34.904485",
     "exception": false,
     "start_time": "2025-06-08T15:22:34.884924",
     "status": "completed"
    },
    "scrolled": true,
    "tags": []
   },
   "outputs": [],
   "source": [
    "def extract_features_from_data(df1):\n",
    "    \"\"\"\n",
    "    Extract features using sliding window of 30sec with 50% overlap on df1 and store in df2\n",
    "    \n",
    "    Args:\n",
    "        df1: Input DataFrame with sensor data\n",
    "        df2: Output DataFrame to store extracted features\n",
    "    \"\"\"\n",
    "    # Get sensor columns (assuming all columns except potential non-sensor ones)\n",
    "    sensor_columns = [col for col in df1.columns if col in ['ACC_x', 'ACC_y', 'ACC_z', \n",
    "                                                          'ECG', 'EDA', 'EMG', 'Resp', 'Temp']]\n",
    "    \n",
    "    # Process with 30-second windows and 50% overlap\n",
    "    windows = process_rolling_windows(\n",
    "        df=df1,\n",
    "        window_size_sec=30,\n",
    "        overlap=0.5,\n",
    "        verbose=True\n",
    "    )\n",
    "    \n",
    "    # Extract features for each window\n",
    "    features_list = []\n",
    "    for window_df in windows:\n",
    "        features = extract_features(window_df, sensor_columns)\n",
    "        features_list.append(features)\n",
    "        # Assign mode label for current window\n",
    "        label_mode = window_df['label'].mode()\n",
    "        features['label'] = label_mode[0] if not label_mode.empty else np.nan\n",
    "    \n",
    "    # Convert to DataFrame and store in df2\n",
    "    df2 = pd.DataFrame(features_list)\n",
    "    \n",
    "    return df2"
   ]
  },
  {
   "cell_type": "code",
   "execution_count": 14,
   "id": "3bf11153",
   "metadata": {
    "execution": {
     "iopub.execute_input": "2025-06-08T15:22:34.931005Z",
     "iopub.status.busy": "2025-06-08T15:22:34.930817Z",
     "iopub.status.idle": "2025-06-08T15:23:26.864509Z",
     "shell.execute_reply": "2025-06-08T15:23:26.863719Z"
    },
    "papermill": {
     "duration": 51.948432,
     "end_time": "2025-06-08T15:23:26.865844",
     "exception": false,
     "start_time": "2025-06-08T15:22:34.917412",
     "status": "completed"
    },
    "tags": []
   },
   "outputs": [
    {
     "name": "stdout",
     "output_type": "stream",
     "text": [
      "Processing 6538 windows (30s at 400Hz, 50.0% overlap)\n",
      "Processed 653/6538 windows (10.0%)\n",
      "Processed 1306/6538 windows (20.0%)\n",
      "Processed 1959/6538 windows (30.0%)\n",
      "Processed 2612/6538 windows (40.0%)\n",
      "Processed 3265/6538 windows (49.9%)\n",
      "Processed 3918/6538 windows (59.9%)\n",
      "Processed 4571/6538 windows (69.9%)\n",
      "Processed 5224/6538 windows (79.9%)\n",
      "Processed 5877/6538 windows (89.9%)\n",
      "Processed 6530/6538 windows (99.9%)\n",
      "Completed 6538/6538 windows\n"
     ]
    }
   ],
   "source": [
    "# Assuming df1 contains your raw sensor data and df2 will store the features\n",
    "df2 = extract_features_from_data(df1)"
   ]
  },
  {
   "cell_type": "code",
   "execution_count": 15,
   "id": "b0195842",
   "metadata": {
    "execution": {
     "iopub.execute_input": "2025-06-08T15:23:26.894281Z",
     "iopub.status.busy": "2025-06-08T15:23:26.893639Z",
     "iopub.status.idle": "2025-06-08T15:23:26.911642Z",
     "shell.execute_reply": "2025-06-08T15:23:26.911031Z"
    },
    "papermill": {
     "duration": 0.033048,
     "end_time": "2025-06-08T15:23:26.912712",
     "exception": false,
     "start_time": "2025-06-08T15:23:26.879664",
     "status": "completed"
    },
    "tags": []
   },
   "outputs": [
    {
     "data": {
      "text/html": [
       "<div>\n",
       "<style scoped>\n",
       "    .dataframe tbody tr th:only-of-type {\n",
       "        vertical-align: middle;\n",
       "    }\n",
       "\n",
       "    .dataframe tbody tr th {\n",
       "        vertical-align: top;\n",
       "    }\n",
       "\n",
       "    .dataframe thead th {\n",
       "        text-align: right;\n",
       "    }\n",
       "</style>\n",
       "<table border=\"1\" class=\"dataframe\">\n",
       "  <thead>\n",
       "    <tr style=\"text-align: right;\">\n",
       "      <th></th>\n",
       "      <th>ACC_x_mean</th>\n",
       "      <th>ACC_x_std</th>\n",
       "      <th>ACC_x_abs_integral</th>\n",
       "      <th>ACC_x_peak_freq</th>\n",
       "      <th>ACC_y_mean</th>\n",
       "      <th>ACC_y_std</th>\n",
       "      <th>ACC_y_abs_integral</th>\n",
       "      <th>ACC_y_peak_freq</th>\n",
       "      <th>ACC_z_mean</th>\n",
       "      <th>ACC_z_std</th>\n",
       "      <th>...</th>\n",
       "      <th>Resp_duration_ratio</th>\n",
       "      <th>RESP_stretch</th>\n",
       "      <th>RESP_rate</th>\n",
       "      <th>Temp_mean</th>\n",
       "      <th>Temp_std</th>\n",
       "      <th>Temp_min</th>\n",
       "      <th>Temp_max</th>\n",
       "      <th>Temp_range</th>\n",
       "      <th>Temp_slope</th>\n",
       "      <th>label</th>\n",
       "    </tr>\n",
       "  </thead>\n",
       "  <tbody>\n",
       "    <tr>\n",
       "      <th>0</th>\n",
       "      <td>0.876836</td>\n",
       "      <td>0.014338</td>\n",
       "      <td>10521.027609</td>\n",
       "      <td>0</td>\n",
       "      <td>0.021927</td>\n",
       "      <td>0.025458</td>\n",
       "      <td>283.828795</td>\n",
       "      <td>0</td>\n",
       "      <td>-0.272395</td>\n",
       "      <td>0.063769</td>\n",
       "      <td>...</td>\n",
       "      <td>0</td>\n",
       "      <td>0</td>\n",
       "      <td>0</td>\n",
       "      <td>33.745495</td>\n",
       "      <td>0.024995</td>\n",
       "      <td>33.659485</td>\n",
       "      <td>33.902283</td>\n",
       "      <td>0.242798</td>\n",
       "      <td>0</td>\n",
       "      <td>0</td>\n",
       "    </tr>\n",
       "    <tr>\n",
       "      <th>1</th>\n",
       "      <td>0.878254</td>\n",
       "      <td>0.004702</td>\n",
       "      <td>10538.172310</td>\n",
       "      <td>0</td>\n",
       "      <td>0.003419</td>\n",
       "      <td>0.008423</td>\n",
       "      <td>69.159378</td>\n",
       "      <td>0</td>\n",
       "      <td>-0.272993</td>\n",
       "      <td>0.018724</td>\n",
       "      <td>...</td>\n",
       "      <td>0</td>\n",
       "      <td>0</td>\n",
       "      <td>0</td>\n",
       "      <td>33.770809</td>\n",
       "      <td>0.029185</td>\n",
       "      <td>33.680695</td>\n",
       "      <td>33.925049</td>\n",
       "      <td>0.244354</td>\n",
       "      <td>0</td>\n",
       "      <td>0</td>\n",
       "    </tr>\n",
       "    <tr>\n",
       "      <th>2</th>\n",
       "      <td>0.883957</td>\n",
       "      <td>0.033430</td>\n",
       "      <td>10606.554203</td>\n",
       "      <td>0</td>\n",
       "      <td>0.017175</td>\n",
       "      <td>0.071681</td>\n",
       "      <td>560.840285</td>\n",
       "      <td>0</td>\n",
       "      <td>-0.236976</td>\n",
       "      <td>0.056655</td>\n",
       "      <td>...</td>\n",
       "      <td>0</td>\n",
       "      <td>0</td>\n",
       "      <td>0</td>\n",
       "      <td>33.794304</td>\n",
       "      <td>0.025404</td>\n",
       "      <td>33.706482</td>\n",
       "      <td>33.932678</td>\n",
       "      <td>0.226196</td>\n",
       "      <td>0</td>\n",
       "      <td>0</td>\n",
       "    </tr>\n",
       "    <tr>\n",
       "      <th>3</th>\n",
       "      <td>0.889101</td>\n",
       "      <td>0.050159</td>\n",
       "      <td>10668.318403</td>\n",
       "      <td>0</td>\n",
       "      <td>0.029089</td>\n",
       "      <td>0.096158</td>\n",
       "      <td>1018.535599</td>\n",
       "      <td>0</td>\n",
       "      <td>-0.207139</td>\n",
       "      <td>0.057198</td>\n",
       "      <td>...</td>\n",
       "      <td>0</td>\n",
       "      <td>0</td>\n",
       "      <td>0</td>\n",
       "      <td>33.794327</td>\n",
       "      <td>0.024747</td>\n",
       "      <td>33.714050</td>\n",
       "      <td>33.932678</td>\n",
       "      <td>0.218628</td>\n",
       "      <td>0</td>\n",
       "      <td>0</td>\n",
       "    </tr>\n",
       "    <tr>\n",
       "      <th>4</th>\n",
       "      <td>0.884423</td>\n",
       "      <td>0.043140</td>\n",
       "      <td>10612.122704</td>\n",
       "      <td>0</td>\n",
       "      <td>0.017364</td>\n",
       "      <td>0.080228</td>\n",
       "      <td>731.996706</td>\n",
       "      <td>0</td>\n",
       "      <td>-0.234572</td>\n",
       "      <td>0.054427</td>\n",
       "      <td>...</td>\n",
       "      <td>0</td>\n",
       "      <td>0</td>\n",
       "      <td>0</td>\n",
       "      <td>33.787811</td>\n",
       "      <td>0.023671</td>\n",
       "      <td>33.667084</td>\n",
       "      <td>33.928101</td>\n",
       "      <td>0.261017</td>\n",
       "      <td>0</td>\n",
       "      <td>0</td>\n",
       "    </tr>\n",
       "  </tbody>\n",
       "</table>\n",
       "<p>5 rows × 59 columns</p>\n",
       "</div>"
      ],
      "text/plain": [
       "   ACC_x_mean  ACC_x_std  ACC_x_abs_integral  ACC_x_peak_freq  ACC_y_mean  \\\n",
       "0    0.876836   0.014338        10521.027609                0    0.021927   \n",
       "1    0.878254   0.004702        10538.172310                0    0.003419   \n",
       "2    0.883957   0.033430        10606.554203                0    0.017175   \n",
       "3    0.889101   0.050159        10668.318403                0    0.029089   \n",
       "4    0.884423   0.043140        10612.122704                0    0.017364   \n",
       "\n",
       "   ACC_y_std  ACC_y_abs_integral  ACC_y_peak_freq  ACC_z_mean  ACC_z_std  ...  \\\n",
       "0   0.025458          283.828795                0   -0.272395   0.063769  ...   \n",
       "1   0.008423           69.159378                0   -0.272993   0.018724  ...   \n",
       "2   0.071681          560.840285                0   -0.236976   0.056655  ...   \n",
       "3   0.096158         1018.535599                0   -0.207139   0.057198  ...   \n",
       "4   0.080228          731.996706                0   -0.234572   0.054427  ...   \n",
       "\n",
       "   Resp_duration_ratio  RESP_stretch  RESP_rate  Temp_mean  Temp_std  \\\n",
       "0                    0             0          0  33.745495  0.024995   \n",
       "1                    0             0          0  33.770809  0.029185   \n",
       "2                    0             0          0  33.794304  0.025404   \n",
       "3                    0             0          0  33.794327  0.024747   \n",
       "4                    0             0          0  33.787811  0.023671   \n",
       "\n",
       "    Temp_min   Temp_max  Temp_range  Temp_slope  label  \n",
       "0  33.659485  33.902283    0.242798           0      0  \n",
       "1  33.680695  33.925049    0.244354           0      0  \n",
       "2  33.706482  33.932678    0.226196           0      0  \n",
       "3  33.714050  33.932678    0.218628           0      0  \n",
       "4  33.667084  33.928101    0.261017           0      0  \n",
       "\n",
       "[5 rows x 59 columns]"
      ]
     },
     "execution_count": 15,
     "metadata": {},
     "output_type": "execute_result"
    }
   ],
   "source": [
    "df2.head()"
   ]
  },
  {
   "cell_type": "code",
   "execution_count": 16,
   "id": "80019caf",
   "metadata": {
    "execution": {
     "iopub.execute_input": "2025-06-08T15:23:26.940340Z",
     "iopub.status.busy": "2025-06-08T15:23:26.940154Z",
     "iopub.status.idle": "2025-06-08T15:23:26.944767Z",
     "shell.execute_reply": "2025-06-08T15:23:26.944124Z"
    },
    "papermill": {
     "duration": 0.019412,
     "end_time": "2025-06-08T15:23:26.945841",
     "exception": false,
     "start_time": "2025-06-08T15:23:26.926429",
     "status": "completed"
    },
    "tags": []
   },
   "outputs": [
    {
     "data": {
      "text/plain": [
       "Index(['ACC_x_mean', 'ACC_x_std', 'ACC_x_abs_integral', 'ACC_x_peak_freq',\n",
       "       'ACC_y_mean', 'ACC_y_std', 'ACC_y_abs_integral', 'ACC_y_peak_freq',\n",
       "       'ACC_z_mean', 'ACC_z_std', 'ACC_z_abs_integral', 'ACC_z_peak_freq',\n",
       "       'ECG_HR_mean', 'ECG_SDNN', 'ECG_RMSSD', 'ECG_NN50', 'ECG_pNN50',\n",
       "       'ECG_TINN', 'ECG_VLF_energy', 'ECG_LF_energy', 'ECG_HF_energy',\n",
       "       'ECG_LF_HF_ratio', 'ECG_LF_norm', 'ECG_HF_norm', 'ECG_relative_power',\n",
       "       'ECG_SD1', 'ECG_SD2', 'ECG_entropy', 'EDA_mean', 'EDA_std',\n",
       "       'EDA_SCR_count', 'EDA_SCR_amplitude', 'EDA_SCR_duration',\n",
       "       'EDA_SCR_slope', 'EDA_dynamic_range', 'EMG_mean', 'EMG_std',\n",
       "       'EMG_dynamic_range', 'EMG_ZCR', 'EMG_peaks', 'EMG_signal_energy',\n",
       "       'EMG_amplitude_mean', 'EMG_amplitude_std', 'EMG_amplitude_max',\n",
       "       'EMG_amplitude_min', 'Resp_inhale_mean', 'Resp_inhale_std',\n",
       "       'Resp_exhale_mean', 'Resp_exhale_std', 'Resp_duration_ratio',\n",
       "       'RESP_stretch', 'RESP_rate', 'Temp_mean', 'Temp_std', 'Temp_min',\n",
       "       'Temp_max', 'Temp_range', 'Temp_slope', 'label'],\n",
       "      dtype='object')"
      ]
     },
     "execution_count": 16,
     "metadata": {},
     "output_type": "execute_result"
    }
   ],
   "source": [
    "df2.columns"
   ]
  },
  {
   "cell_type": "markdown",
   "id": "bf946942",
   "metadata": {
    "papermill": {
     "duration": 0.012988,
     "end_time": "2025-06-08T15:23:26.972310",
     "exception": false,
     "start_time": "2025-06-08T15:23:26.959322",
     "status": "completed"
    },
    "tags": []
   },
   "source": [
    "# BASELINE + AMUSEMENT (NON-STRESS) and STRESS Seperation"
   ]
  },
  {
   "cell_type": "code",
   "execution_count": 17,
   "id": "937864c7",
   "metadata": {
    "execution": {
     "iopub.execute_input": "2025-06-08T15:23:26.999167Z",
     "iopub.status.busy": "2025-06-08T15:23:26.998935Z",
     "iopub.status.idle": "2025-06-08T15:23:27.003007Z",
     "shell.execute_reply": "2025-06-08T15:23:27.002360Z"
    },
    "papermill": {
     "duration": 0.018684,
     "end_time": "2025-06-08T15:23:27.003995",
     "exception": false,
     "start_time": "2025-06-08T15:23:26.985311",
     "status": "completed"
    },
    "tags": []
   },
   "outputs": [],
   "source": [
    "def map_stress_labels(df2):\n",
    "    \"\"\"\n",
    "    Map original WESAD labels to binary stress (1) and non-stress (0) classes.\n",
    "\n",
    "    Args:\n",
    "        df2 (pd.DataFrame): DataFrame containing a 'label' column.\n",
    "\n",
    "    Returns:\n",
    "        pd.DataFrame: New DataFrame df3 with binary 'stress_label'.\n",
    "    \"\"\"\n",
    "    df3 = df2.copy()\n",
    "\n",
    "    # Mapping: 1 and 3 -> non-stress (0), 2 -> stress (1)\n",
    "    label_map = {1: 0, 3: 0, 2: 1}\n",
    "    df3['stress_label'] = df3['label'].map(label_map)\n",
    "\n",
    "    # Optionally drop rows with NaN (i.e., labels not 1, 2, or 3)\n",
    "    df3 = df3.dropna(subset=['stress_label']).reset_index(drop=True)\n",
    "\n",
    "    return df3\n"
   ]
  },
  {
   "cell_type": "code",
   "execution_count": 18,
   "id": "6d449941",
   "metadata": {
    "execution": {
     "iopub.execute_input": "2025-06-08T15:23:27.030833Z",
     "iopub.status.busy": "2025-06-08T15:23:27.030635Z",
     "iopub.status.idle": "2025-06-08T15:23:27.039660Z",
     "shell.execute_reply": "2025-06-08T15:23:27.039203Z"
    },
    "papermill": {
     "duration": 0.023668,
     "end_time": "2025-06-08T15:23:27.040707",
     "exception": false,
     "start_time": "2025-06-08T15:23:27.017039",
     "status": "completed"
    },
    "tags": []
   },
   "outputs": [],
   "source": [
    "df3 = map_stress_labels(df2)\n",
    "df3= df3.drop(columns=[\"label\"])"
   ]
  },
  {
   "cell_type": "code",
   "execution_count": 19,
   "id": "d2dd9aa7",
   "metadata": {
    "execution": {
     "iopub.execute_input": "2025-06-08T15:23:27.067642Z",
     "iopub.status.busy": "2025-06-08T15:23:27.067434Z",
     "iopub.status.idle": "2025-06-08T15:23:27.071592Z",
     "shell.execute_reply": "2025-06-08T15:23:27.071110Z"
    },
    "papermill": {
     "duration": 0.01869,
     "end_time": "2025-06-08T15:23:27.072599",
     "exception": false,
     "start_time": "2025-06-08T15:23:27.053909",
     "status": "completed"
    },
    "tags": []
   },
   "outputs": [
    {
     "data": {
      "text/plain": [
       "Index(['ACC_x_mean', 'ACC_x_std', 'ACC_x_abs_integral', 'ACC_x_peak_freq',\n",
       "       'ACC_y_mean', 'ACC_y_std', 'ACC_y_abs_integral', 'ACC_y_peak_freq',\n",
       "       'ACC_z_mean', 'ACC_z_std', 'ACC_z_abs_integral', 'ACC_z_peak_freq',\n",
       "       'ECG_HR_mean', 'ECG_SDNN', 'ECG_RMSSD', 'ECG_NN50', 'ECG_pNN50',\n",
       "       'ECG_TINN', 'ECG_VLF_energy', 'ECG_LF_energy', 'ECG_HF_energy',\n",
       "       'ECG_LF_HF_ratio', 'ECG_LF_norm', 'ECG_HF_norm', 'ECG_relative_power',\n",
       "       'ECG_SD1', 'ECG_SD2', 'ECG_entropy', 'EDA_mean', 'EDA_std',\n",
       "       'EDA_SCR_count', 'EDA_SCR_amplitude', 'EDA_SCR_duration',\n",
       "       'EDA_SCR_slope', 'EDA_dynamic_range', 'EMG_mean', 'EMG_std',\n",
       "       'EMG_dynamic_range', 'EMG_ZCR', 'EMG_peaks', 'EMG_signal_energy',\n",
       "       'EMG_amplitude_mean', 'EMG_amplitude_std', 'EMG_amplitude_max',\n",
       "       'EMG_amplitude_min', 'Resp_inhale_mean', 'Resp_inhale_std',\n",
       "       'Resp_exhale_mean', 'Resp_exhale_std', 'Resp_duration_ratio',\n",
       "       'RESP_stretch', 'RESP_rate', 'Temp_mean', 'Temp_std', 'Temp_min',\n",
       "       'Temp_max', 'Temp_range', 'Temp_slope', 'stress_label'],\n",
       "      dtype='object')"
      ]
     },
     "execution_count": 19,
     "metadata": {},
     "output_type": "execute_result"
    }
   ],
   "source": [
    "df3.columns"
   ]
  },
  {
   "cell_type": "markdown",
   "id": "acfafebf",
   "metadata": {
    "papermill": {
     "duration": 0.013251,
     "end_time": "2025-06-08T15:23:27.099366",
     "exception": false,
     "start_time": "2025-06-08T15:23:27.086115",
     "status": "completed"
    },
    "tags": []
   },
   "source": [
    "# Feature selection based on Mutual Information"
   ]
  },
  {
   "cell_type": "code",
   "execution_count": 20,
   "id": "9620c857",
   "metadata": {
    "execution": {
     "iopub.execute_input": "2025-06-08T15:23:27.127727Z",
     "iopub.status.busy": "2025-06-08T15:23:27.127513Z",
     "iopub.status.idle": "2025-06-08T15:23:29.242620Z",
     "shell.execute_reply": "2025-06-08T15:23:29.241914Z"
    },
    "papermill": {
     "duration": 2.132224,
     "end_time": "2025-06-08T15:23:29.245071",
     "exception": false,
     "start_time": "2025-06-08T15:23:27.112847",
     "status": "completed"
    },
    "tags": []
   },
   "outputs": [
    {
     "data": {
      "image/png": "[encoded data removed]",
      "text/plain": [
       "<Figure size 1400x800 with 1 Axes>"
      ]
     },
     "metadata": {},
     "output_type": "display_data"
    }
   ],
   "source": [
    "import matplotlib.pyplot as plt\n",
    "from sklearn.feature_selection import mutual_info_classif\n",
    "import pandas as pd\n",
    "\n",
    "# Feature columns (excluding the target)\n",
    "feature_columns = [\n",
    "       'ACC_x_mean', 'ACC_x_std', 'ACC_x_abs_integral', 'ACC_x_peak_freq',\n",
    "       'ACC_y_mean', 'ACC_y_std', 'ACC_y_abs_integral', 'ACC_y_peak_freq',\n",
    "       'ACC_z_mean', 'ACC_z_std', 'ACC_z_abs_integral', 'ACC_z_peak_freq',\n",
    "       'ECG_HR_mean', 'ECG_SDNN', 'ECG_RMSSD', 'ECG_NN50', 'ECG_pNN50',\n",
    "       'ECG_TINN', 'ECG_VLF_energy', 'ECG_LF_energy', 'ECG_HF_energy',\n",
    "       'ECG_LF_HF_ratio', 'ECG_LF_norm', 'ECG_HF_norm', 'ECG_relative_power',\n",
    "       'ECG_SD1', 'ECG_SD2', 'ECG_entropy', 'EDA_mean', 'EDA_std',\n",
    "       'EDA_SCR_count', 'EDA_SCR_amplitude', 'EDA_SCR_duration',\n",
    "       'EDA_SCR_slope', 'EDA_dynamic_range', 'EMG_mean', 'EMG_std',\n",
    "       'EMG_dynamic_range', 'EMG_ZCR', 'EMG_peaks', 'EMG_signal_energy',\n",
    "       'EMG_amplitude_mean', 'EMG_amplitude_std', 'EMG_amplitude_max',\n",
    "       'EMG_amplitude_min', 'Resp_inhale_mean', 'Resp_inhale_std',\n",
    "       'Resp_exhale_mean', 'Resp_exhale_std', 'Resp_duration_ratio',\n",
    "       'RESP_stretch', 'RESP_rate', 'Temp_mean', 'Temp_std', 'Temp_min',\n",
    "       'Temp_max', 'Temp_range', 'Temp_slope',\n",
    "]\n",
    "\n",
    "# Target\n",
    "target_column = 'stress_label'\n",
    "\n",
    "# Extract features and labels\n",
    "X = df3[feature_columns]\n",
    "y = df3[target_column]\n",
    "\n",
    "# Compute mutual information scores\n",
    "mi_scores = mutual_info_classif(X, y, discrete_features=False, random_state=42)\n",
    "mi_series = pd.Series(mi_scores, index=feature_columns).sort_values(ascending=False)\n",
    "\n",
    "# Plot\n",
    "plt.figure(figsize=(14, 8))\n",
    "bars = plt.bar(mi_series.index, mi_series.values, color='skyblue')\n",
    "plt.xticks(rotation=90)\n",
    "plt.ylabel(\"Mutual Information Score\")\n",
    "plt.title(\"Mutual Information between Features and Stress Label\")\n",
    "\n",
    "# Annotate each bar with its score\n",
    "for bar in bars:\n",
    "    height = bar.get_height()\n",
    "    plt.text(bar.get_x() + bar.get_width() / 2.0, height, f'{height:.2f}',\n",
    "             ha='center', va='bottom', fontsize=8)\n",
    "\n",
    "plt.tight_layout()\n",
    "plt.show()\n"
   ]
  },
  {
   "cell_type": "code",
   "execution_count": 21,
   "id": "c5e92759",
   "metadata": {
    "execution": {
     "iopub.execute_input": "2025-06-08T15:23:29.278088Z",
     "iopub.status.busy": "2025-06-08T15:23:29.277876Z",
     "iopub.status.idle": "2025-06-08T15:23:29.283800Z",
     "shell.execute_reply": "2025-06-08T15:23:29.283237Z"
    },
    "papermill": {
     "duration": 0.023392,
     "end_time": "2025-06-08T15:23:29.284781",
     "exception": false,
     "start_time": "2025-06-08T15:23:29.261389",
     "status": "completed"
    },
    "scrolled": true,
    "tags": []
   },
   "outputs": [
    {
     "data": {
      "text/plain": [
       "EDA_mean               0.313428\n",
       "Temp_min               0.252791\n",
       "Temp_max               0.251004\n",
       "Temp_mean              0.249830\n",
       "ACC_x_std              0.216277\n",
       "ACC_z_std              0.153162\n",
       "EDA_std                0.142221\n",
       "ACC_z_mean             0.140963\n",
       "ACC_z_abs_integral     0.124395\n",
       "EMG_mean               0.122822\n",
       "ACC_x_mean             0.118079\n",
       "ACC_x_abs_integral     0.115595\n",
       "ACC_y_mean             0.089434\n",
       "ACC_y_std              0.081705\n",
       "EMG_dynamic_range      0.076354\n",
       "Temp_std               0.074993\n",
       "ACC_y_abs_integral     0.055910\n",
       "Temp_range             0.048692\n",
       "EMG_std                0.017877\n",
       "ECG_SD2                0.015180\n",
       "EDA_dynamic_range      0.012094\n",
       "ECG_LF_energy          0.011607\n",
       "ECG_VLF_energy         0.011448\n",
       "Temp_slope             0.011168\n",
       "EDA_SCR_duration       0.009909\n",
       "ECG_TINN               0.009494\n",
       "ACC_x_peak_freq        0.009055\n",
       "EMG_signal_energy      0.008182\n",
       "ECG_HF_norm            0.006244\n",
       "ECG_LF_norm            0.005509\n",
       "ECG_RMSSD              0.004655\n",
       "EDA_SCR_amplitude      0.004493\n",
       "ECG_NN50               0.003901\n",
       "RESP_rate              0.003842\n",
       "ECG_SDNN               0.003171\n",
       "EMG_amplitude_min      0.000436\n",
       "ECG_HR_mean            0.000410\n",
       "EMG_amplitude_mean     0.000360\n",
       "ACC_z_peak_freq        0.000000\n",
       "ECG_pNN50              0.000000\n",
       "ACC_y_peak_freq        0.000000\n",
       "ECG_LF_HF_ratio        0.000000\n",
       "ECG_SD1                0.000000\n",
       "ECG_relative_power     0.000000\n",
       "ECG_HF_energy          0.000000\n",
       "EMG_ZCR                0.000000\n",
       "ECG_entropy            0.000000\n",
       "EMG_peaks              0.000000\n",
       "EDA_SCR_count          0.000000\n",
       "EDA_SCR_slope          0.000000\n",
       "Resp_duration_ratio    0.000000\n",
       "Resp_exhale_std        0.000000\n",
       "Resp_exhale_mean       0.000000\n",
       "Resp_inhale_std        0.000000\n",
       "Resp_inhale_mean       0.000000\n",
       "EMG_amplitude_max      0.000000\n",
       "EMG_amplitude_std      0.000000\n",
       "RESP_stretch           0.000000\n",
       "dtype: float64"
      ]
     },
     "execution_count": 21,
     "metadata": {},
     "output_type": "execute_result"
    }
   ],
   "source": [
    "mi_series"
   ]
  },
  {
   "cell_type": "code",
   "execution_count": 22,
   "id": "70859de7",
   "metadata": {
    "execution": {
     "iopub.execute_input": "2025-06-08T15:23:29.316779Z",
     "iopub.status.busy": "2025-06-08T15:23:29.316572Z",
     "iopub.status.idle": "2025-06-08T15:23:29.321898Z",
     "shell.execute_reply": "2025-06-08T15:23:29.321281Z"
    },
    "papermill": {
     "duration": 0.022553,
     "end_time": "2025-06-08T15:23:29.323045",
     "exception": false,
     "start_time": "2025-06-08T15:23:29.300492",
     "status": "completed"
    },
    "tags": []
   },
   "outputs": [],
   "source": [
    "# List of columns to extract (from your output)\n",
    "features_to_extract = [\n",
    "    'EDA_mean', 'Temp_min', 'Temp_max', 'Temp_mean', 'ACC_x_std',\n",
    "    'ACC_z_std', 'EDA_std', 'ACC_z_mean', 'ACC_z_abs_integral', 'EMG_mean',\n",
    "    'ACC_x_mean', 'ACC_x_abs_integral', 'ACC_y_mean', 'ACC_y_std',\n",
    "    'EMG_dynamic_range', 'Temp_std', 'ACC_y_abs_integral', 'Temp_range',\n",
    "    'EMG_std', 'ECG_SD2', 'EDA_dynamic_range', 'ECG_LF_energy',\n",
    "    'ECG_VLF_energy', 'Temp_slope'\n",
    "]\n",
    "\n",
    "# Add the target column\n",
    "features_to_extract.append('stress_label')\n",
    "\n",
    "# Create the new dataframe\n",
    "df4 = df3[features_to_extract].copy()"
   ]
  },
  {
   "cell_type": "code",
   "execution_count": 23,
   "id": "f6e843e0",
   "metadata": {
    "execution": {
     "iopub.execute_input": "2025-06-08T15:23:29.355163Z",
     "iopub.status.busy": "2025-06-08T15:23:29.354934Z",
     "iopub.status.idle": "2025-06-08T15:23:29.359266Z",
     "shell.execute_reply": "2025-06-08T15:23:29.358596Z"
    },
    "papermill": {
     "duration": 0.021521,
     "end_time": "2025-06-08T15:23:29.360292",
     "exception": false,
     "start_time": "2025-06-08T15:23:29.338771",
     "status": "completed"
    },
    "tags": []
   },
   "outputs": [
    {
     "data": {
      "text/plain": [
       "Index(['EDA_mean', 'Temp_min', 'Temp_max', 'Temp_mean', 'ACC_x_std',\n",
       "       'ACC_z_std', 'EDA_std', 'ACC_z_mean', 'ACC_z_abs_integral', 'EMG_mean',\n",
       "       'ACC_x_mean', 'ACC_x_abs_integral', 'ACC_y_mean', 'ACC_y_std',\n",
       "       'EMG_dynamic_range', 'Temp_std', 'ACC_y_abs_integral', 'Temp_range',\n",
       "       'EMG_std', 'ECG_SD2', 'EDA_dynamic_range', 'ECG_LF_energy',\n",
       "       'ECG_VLF_energy', 'Temp_slope', 'stress_label'],\n",
       "      dtype='object')"
      ]
     },
     "execution_count": 23,
     "metadata": {},
     "output_type": "execute_result"
    }
   ],
   "source": [
    "df4.columns"
   ]
  },
  {
   "cell_type": "code",
   "execution_count": 24,
   "id": "1ec49d39",
   "metadata": {
    "execution": {
     "iopub.execute_input": "2025-06-08T15:23:29.391880Z",
     "iopub.status.busy": "2025-06-08T15:23:29.391673Z",
     "iopub.status.idle": "2025-06-08T15:23:29.395676Z",
     "shell.execute_reply": "2025-06-08T15:23:29.394920Z"
    },
    "papermill": {
     "duration": 0.020916,
     "end_time": "2025-06-08T15:23:29.396747",
     "exception": false,
     "start_time": "2025-06-08T15:23:29.375831",
     "status": "completed"
    },
    "tags": []
   },
   "outputs": [],
   "source": [
    "# Convert 'stress_label' to integer\n",
    "df4['stress_label'] = df4['stress_label'].astype(int)"
   ]
  },
  {
   "cell_type": "code",
   "execution_count": 25,
   "id": "c80272f3",
   "metadata": {
    "execution": {
     "iopub.execute_input": "2025-06-08T15:23:29.428068Z",
     "iopub.status.busy": "2025-06-08T15:23:29.427856Z",
     "iopub.status.idle": "2025-06-08T15:23:29.433141Z",
     "shell.execute_reply": "2025-06-08T15:23:29.432423Z"
    },
    "papermill": {
     "duration": 0.022117,
     "end_time": "2025-06-08T15:23:29.434209",
     "exception": false,
     "start_time": "2025-06-08T15:23:29.412092",
     "status": "completed"
    },
    "tags": []
   },
   "outputs": [
    {
     "data": {
      "text/plain": [
       "EDA_mean              float64\n",
       "Temp_min              float64\n",
       "Temp_max              float64\n",
       "Temp_mean             float32\n",
       "ACC_x_std             float64\n",
       "ACC_z_std             float64\n",
       "EDA_std               float64\n",
       "ACC_z_mean            float64\n",
       "ACC_z_abs_integral    float64\n",
       "EMG_mean              float64\n",
       "ACC_x_mean            float64\n",
       "ACC_x_abs_integral    float64\n",
       "ACC_y_mean            float64\n",
       "ACC_y_std             float64\n",
       "EMG_dynamic_range     float64\n",
       "Temp_std              float64\n",
       "ACC_y_abs_integral    float64\n",
       "Temp_range            float64\n",
       "EMG_std               float64\n",
       "ECG_SD2                 int64\n",
       "EDA_dynamic_range       int64\n",
       "ECG_LF_energy           int64\n",
       "ECG_VLF_energy          int64\n",
       "Temp_slope              int64\n",
       "stress_label            int64\n",
       "dtype: object"
      ]
     },
     "execution_count": 25,
     "metadata": {},
     "output_type": "execute_result"
    }
   ],
   "source": [
    "df4.dtypes"
   ]
  },
  {
   "cell_type": "markdown",
   "id": "2ff51e34",
   "metadata": {
    "papermill": {
     "duration": 0.015166,
     "end_time": "2025-06-08T15:23:29.464663",
     "exception": false,
     "start_time": "2025-06-08T15:23:29.449497",
     "status": "completed"
    },
    "tags": []
   },
   "source": [
    "# CLASSIFICATION REPORTS: Without Oversampling "
   ]
  },
  {
   "cell_type": "code",
   "execution_count": 26,
   "id": "0fb369ff",
   "metadata": {
    "execution": {
     "iopub.execute_input": "2025-06-08T15:23:29.496741Z",
     "iopub.status.busy": "2025-06-08T15:23:29.496562Z",
     "iopub.status.idle": "2025-06-08T15:23:29.500805Z",
     "shell.execute_reply": "2025-06-08T15:23:29.500284Z"
    },
    "papermill": {
     "duration": 0.02156,
     "end_time": "2025-06-08T15:23:29.501778",
     "exception": false,
     "start_time": "2025-06-08T15:23:29.480218",
     "status": "completed"
    },
    "tags": []
   },
   "outputs": [
    {
     "data": {
      "text/plain": [
       "Index(['EDA_mean', 'Temp_min', 'Temp_max', 'Temp_mean', 'ACC_x_std',\n",
       "       'ACC_z_std', 'EDA_std', 'ACC_z_mean', 'ACC_z_abs_integral', 'EMG_mean',\n",
       "       'ACC_x_mean', 'ACC_x_abs_integral', 'ACC_y_mean', 'ACC_y_std',\n",
       "       'EMG_dynamic_range', 'Temp_std', 'ACC_y_abs_integral', 'Temp_range',\n",
       "       'EMG_std', 'ECG_SD2', 'EDA_dynamic_range', 'ECG_LF_energy',\n",
       "       'ECG_VLF_energy', 'Temp_slope', 'stress_label'],\n",
       "      dtype='object')"
      ]
     },
     "execution_count": 26,
     "metadata": {},
     "output_type": "execute_result"
    }
   ],
   "source": [
    "df4.columns"
   ]
  },
  {
   "cell_type": "code",
   "execution_count": 27,
   "id": "51756b55",
   "metadata": {
    "execution": {
     "iopub.execute_input": "2025-06-08T15:23:29.534170Z",
     "iopub.status.busy": "2025-06-08T15:23:29.533731Z",
     "iopub.status.idle": "2025-06-08T15:23:29.538663Z",
     "shell.execute_reply": "2025-06-08T15:23:29.537972Z"
    },
    "papermill": {
     "duration": 0.02232,
     "end_time": "2025-06-08T15:23:29.539738",
     "exception": false,
     "start_time": "2025-06-08T15:23:29.517418",
     "status": "completed"
    },
    "tags": []
   },
   "outputs": [
    {
     "data": {
      "text/plain": [
       "stress_label\n",
       "0    1800\n",
       "1     782\n",
       "Name: count, dtype: int64"
      ]
     },
     "execution_count": 27,
     "metadata": {},
     "output_type": "execute_result"
    }
   ],
   "source": [
    "df4['stress_label'].value_counts()"
   ]
  },
  {
   "cell_type": "markdown",
   "id": "746df8a8",
   "metadata": {
    "papermill": {
     "duration": 0.015503,
     "end_time": "2025-06-08T15:23:29.570930",
     "exception": false,
     "start_time": "2025-06-08T15:23:29.555427",
     "status": "completed"
    },
    "tags": []
   },
   "source": [
    "# 1. Decision Tree"
   ]
  },
  {
   "cell_type": "code",
   "execution_count": 28,
   "id": "bc0a1c45",
   "metadata": {
    "execution": {
     "iopub.execute_input": "2025-06-08T15:23:29.602992Z",
     "iopub.status.busy": "2025-06-08T15:23:29.602794Z",
     "iopub.status.idle": "2025-06-08T15:23:29.987437Z",
     "shell.execute_reply": "2025-06-08T15:23:29.986711Z"
    },
    "papermill": {
     "duration": 0.40189,
     "end_time": "2025-06-08T15:23:29.988453",
     "exception": false,
     "start_time": "2025-06-08T15:23:29.586563",
     "status": "completed"
    },
    "tags": []
   },
   "outputs": [
    {
     "name": "stdout",
     "output_type": "stream",
     "text": [
      "\n",
      "==================================================\n",
      "TEST SET EVALUATION (DECISION TREE)\n",
      "==================================================\n",
      "\n",
      "Classification Report:\n",
      "              precision    recall  f1-score   support\n",
      "\n",
      "           0       0.98      0.99      0.99       192\n",
      "           1       0.97      0.96      0.96        67\n",
      "\n",
      "    accuracy                           0.98       259\n",
      "   macro avg       0.98      0.97      0.97       259\n",
      "weighted avg       0.98      0.98      0.98       259\n",
      "\n"
     ]
    },
    {
     "data": {
      "image/png": "[encoded data removed]",
      "text/plain": [
       "<Figure size 640x480 with 2 Axes>"
      ]
     },
     "metadata": {},
     "output_type": "display_data"
    },
    {
     "data": {
      "image/png": "[encoded data removed]",
      "text/plain": [
       "<Figure size 640x480 with 1 Axes>"
      ]
     },
     "metadata": {},
     "output_type": "display_data"
    }
   ],
   "source": [
    "import pandas as pd\n",
    "import matplotlib.pyplot as plt\n",
    "from sklearn.model_selection import train_test_split\n",
    "from sklearn.tree import DecisionTreeClassifier\n",
    "from sklearn.metrics import (\n",
    "    classification_report,\n",
    "    confusion_matrix,\n",
    "    ConfusionMatrixDisplay,\n",
    "    roc_auc_score,\n",
    "    roc_curve,\n",
    "    auc\n",
    ")\n",
    "\n",
    "# 1. Load and prepare the data\n",
    "# Assuming df4 is already loaded with features and 'stress_label' target\n",
    "X = df4.drop('stress_label', axis=1)\n",
    "y = df4['stress_label']\n",
    "\n",
    "# 2. Split data into train (70%), validation (20%), and test (10%)\n",
    "X_train, X_temp, y_train, y_temp = train_test_split(\n",
    "    X, y, test_size=0.3, random_state=42)\n",
    "X_val, X_test, y_val, y_test = train_test_split(\n",
    "    X_temp, y_temp, test_size=1/3, random_state=42)\n",
    "\n",
    "# 3. Train Decision Tree classifier\n",
    "dtree = DecisionTreeClassifier(random_state=42)\n",
    "dtree.fit(X_train, y_train)\n",
    "\n",
    "# 4. Evaluate on TEST SET\n",
    "print(\"\\n\" + \"=\"*50)\n",
    "print(\"TEST SET EVALUATION (DECISION TREE)\")\n",
    "print(\"=\"*50)\n",
    "\n",
    "# A. Classification Report\n",
    "y_test_pred = dtree.predict(X_test)\n",
    "print(\"\\nClassification Report:\")\n",
    "print(classification_report(y_test, y_test_pred))\n",
    "\n",
    "# B. Confusion Matrix\n",
    "cm = confusion_matrix(y_test, y_test_pred)\n",
    "disp = ConfusionMatrixDisplay(confusion_matrix=cm)\n",
    "disp.plot(cmap='Greens')\n",
    "plt.title(\"Test Set Confusion Matrix (Decision Tree)\")\n",
    "plt.show()\n",
    "\n",
    "# C. ROC-AUC Curve (with 4 decimal places)\n",
    "y_test_proba = dtree.predict_proba(X_test)[:, 1]\n",
    "fpr, tpr, _ = roc_curve(y_test, y_test_proba)\n",
    "roc_auc = auc(fpr, tpr)\n",
    "\n",
    "plt.figure()\n",
    "plt.plot(fpr, tpr, color='darkgreen', \n",
    "         lw=2, \n",
    "         label=f'Decision Tree (AUC = {roc_auc:.4f})')\n",
    "plt.plot([0, 1], [0, 1], 'k--', lw=2)\n",
    "plt.xlim([0.0, 1.0])\n",
    "plt.ylim([0.0, 1.05])\n",
    "plt.xlabel('False Positive Rate')\n",
    "plt.ylabel('True Positive Rate')\n",
    "plt.title('ROC Curve - Decision Tree')\n",
    "plt.legend(loc=\"lower right\")\n",
    "plt.show()"
   ]
  },
  {
   "cell_type": "markdown",
   "id": "278c1b17",
   "metadata": {
    "papermill": {
     "duration": 0.017248,
     "end_time": "2025-06-08T15:23:30.023799",
     "exception": false,
     "start_time": "2025-06-08T15:23:30.006551",
     "status": "completed"
    },
    "tags": []
   },
   "source": [
    "1A. 80:20 Split"
   ]
  },
  {
   "cell_type": "code",
   "execution_count": 29,
   "id": "0e458cb0",
   "metadata": {
    "execution": {
     "iopub.execute_input": "2025-06-08T15:23:30.058287Z",
     "iopub.status.busy": "2025-06-08T15:23:30.058052Z",
     "iopub.status.idle": "2025-06-08T15:23:30.368178Z",
     "shell.execute_reply": "2025-06-08T15:23:30.367438Z"
    },
    "papermill": {
     "duration": 0.3288,
     "end_time": "2025-06-08T15:23:30.369186",
     "exception": false,
     "start_time": "2025-06-08T15:23:30.040386",
     "status": "completed"
    },
    "tags": []
   },
   "outputs": [
    {
     "name": "stdout",
     "output_type": "stream",
     "text": [
      "\n",
      "==================================================\n",
      "TEST SET EVALUATION (DECISION TREE)\n",
      "==================================================\n",
      "\n",
      "Classification Report:\n",
      "              precision    recall  f1-score   support\n",
      "\n",
      "           0     0.9837    0.9890    0.9863       365\n",
      "           1     0.9733    0.9605    0.9669       152\n",
      "\n",
      "    accuracy                         0.9807       517\n",
      "   macro avg     0.9785    0.9748    0.9766       517\n",
      "weighted avg     0.9806    0.9807    0.9806       517\n",
      "\n"
     ]
    },
    {
     "data": {
      "image/png": "[encoded data removed]",
      "text/plain": [
       "<Figure size 640x480 with 2 Axes>"
      ]
     },
     "metadata": {},
     "output_type": "display_data"
    },
    {
     "data": {
      "image/png": "[encoded data removed]",
      "text/plain": [
       "<Figure size 640x480 with 1 Axes>"
      ]
     },
     "metadata": {},
     "output_type": "display_data"
    }
   ],
   "source": [
    "import pandas as pd\n",
    "import matplotlib.pyplot as plt\n",
    "from sklearn.model_selection import train_test_split\n",
    "from sklearn.tree import DecisionTreeClassifier\n",
    "from sklearn.metrics import (\n",
    "    classification_report,\n",
    "    confusion_matrix,\n",
    "    ConfusionMatrixDisplay,\n",
    "    roc_auc_score,\n",
    "    roc_curve,\n",
    "    auc\n",
    ")\n",
    "\n",
    "# 1. Load and prepare the data\n",
    "# Assuming df4 is already loaded with features and 'stress_label' target\n",
    "X = df4.drop('stress_label', axis=1)\n",
    "y = df4['stress_label']\n",
    "\n",
    "# 2. Split data into train (80%) and test (20%)\n",
    "X_train, X_test, y_train, y_test = train_test_split(\n",
    "    X, y, test_size=0.2, random_state=42)\n",
    "\n",
    "# 3. Train Decision Tree classifier\n",
    "dtree = DecisionTreeClassifier(random_state=42)\n",
    "dtree.fit(X_train, y_train)\n",
    "\n",
    "# 4. Evaluate on TEST SET\n",
    "print(\"\\n\" + \"=\"*50)\n",
    "print(\"TEST SET EVALUATION (DECISION TREE)\")\n",
    "print(\"=\"*50)\n",
    "\n",
    "# A. Classification Report\n",
    "y_test_pred = dtree.predict(X_test)\n",
    "print(\"\\nClassification Report:\")\n",
    "print(classification_report(y_test, y_test_pred,digits=4))\n",
    "\n",
    "# B. Confusion Matrix\n",
    "cm = confusion_matrix(y_test, y_test_pred)\n",
    "disp = ConfusionMatrixDisplay(confusion_matrix=cm)\n",
    "disp.plot(cmap='Greens')\n",
    "plt.title(\"Test Set Confusion Matrix (Decision Tree)\")\n",
    "plt.show()\n",
    "\n",
    "# C. ROC-AUC Curve (with 4 decimal places)\n",
    "y_test_proba = dtree.predict_proba(X_test)[:, 1]\n",
    "fpr, tpr, _ = roc_curve(y_test, y_test_proba)\n",
    "roc_auc = auc(fpr, tpr)\n",
    "\n",
    "plt.figure()\n",
    "plt.plot(fpr, tpr, color='darkgreen', \n",
    "         lw=2, \n",
    "         label=f'Decision Tree (AUC = {roc_auc:.4f})')\n",
    "plt.plot([0, 1], [0, 1], 'k--', lw=2)\n",
    "plt.xlim([0.0, 1.0])\n",
    "plt.ylim([0.0, 1.05])\n",
    "plt.xlabel('False Positive Rate')\n",
    "plt.ylabel('True Positive Rate')\n",
    "plt.title('ROC Curve - Decision Tree')\n",
    "plt.legend(loc=\"lower right\")\n",
    "plt.show()"
   ]
  },
  {
   "cell_type": "markdown",
   "id": "f9a0fc12",
   "metadata": {
    "papermill": {
     "duration": 0.018192,
     "end_time": "2025-06-08T15:23:30.406479",
     "exception": false,
     "start_time": "2025-06-08T15:23:30.388287",
     "status": "completed"
    },
    "tags": []
   },
   "source": [
    "# 2. Logistic Regression"
   ]
  },
  {
   "cell_type": "code",
   "execution_count": 30,
   "id": "c2514186",
   "metadata": {
    "execution": {
     "iopub.execute_input": "2025-06-08T15:23:30.442744Z",
     "iopub.status.busy": "2025-06-08T15:23:30.442515Z",
     "iopub.status.idle": "2025-06-08T15:23:31.179965Z",
     "shell.execute_reply": "2025-06-08T15:23:31.179015Z"
    },
    "papermill": {
     "duration": 0.756745,
     "end_time": "2025-06-08T15:23:31.181052",
     "exception": true,
     "start_time": "2025-06-08T15:23:30.424307",
     "status": "failed"
    },
    "tags": []
   },
   "outputs": [
    {
     "name": "stdout",
     "output_type": "stream",
     "text": [
      "\n",
      "==================================================\n",
      "TEST SET EVALUATION\n",
      "==================================================\n",
      "\n",
      "Classification Report:\n",
      "              precision    recall  f1-score   support\n",
      "\n",
      "           0       0.89      0.96      0.92       192\n",
      "           1       0.85      0.67      0.75        67\n",
      "\n",
      "    accuracy                           0.88       259\n",
      "   macro avg       0.87      0.81      0.84       259\n",
      "weighted avg       0.88      0.88      0.88       259\n",
      "\n"
     ]
    },
    {
     "data": {
      "image/png": "[encoded data removed]",
      "text/plain": [
       "<Figure size 640x480 with 2 Axes>"
      ]
     },
     "metadata": {},
     "output_type": "display_data"
    },
    {
     "ename": "ValueError",
     "evalue": "Found input variables with inconsistent numbers of samples: [259, 517]",
     "output_type": "error",
     "traceback": [
      "\u001b[0;31m---------------------------------------------------------------------------\u001b[0m",
      "\u001b[0;31mValueError\u001b[0m                                Traceback (most recent call last)",
      "\u001b[0;32m/tmp/ipykernel_19/10410712.py\u001b[0m in \u001b[0;36m<cell line: 0>\u001b[0;34m()\u001b[0m\n\u001b[1;32m     53\u001b[0m \u001b[0;31m# C. ROC-AUC Curve\u001b[0m\u001b[0;34m\u001b[0m\u001b[0;34m\u001b[0m\u001b[0m\n\u001b[1;32m     54\u001b[0m \u001b[0;31m# Generate ROC curve with custom legend (4 decimal places)\u001b[0m\u001b[0;34m\u001b[0m\u001b[0;34m\u001b[0m\u001b[0m\n\u001b[0;32m---> 55\u001b[0;31m \u001b[0mfpr\u001b[0m\u001b[0;34m,\u001b[0m \u001b[0mtpr\u001b[0m\u001b[0;34m,\u001b[0m \u001b[0m_\u001b[0m \u001b[0;34m=\u001b[0m \u001b[0mroc_curve\u001b[0m\u001b[0;34m(\u001b[0m\u001b[0my_test\u001b[0m\u001b[0;34m,\u001b[0m \u001b[0my_test_proba\u001b[0m\u001b[0;34m)\u001b[0m\u001b[0;34m\u001b[0m\u001b[0;34m\u001b[0m\u001b[0m\n\u001b[0m\u001b[1;32m     56\u001b[0m \u001b[0mroc_auc\u001b[0m \u001b[0;34m=\u001b[0m \u001b[0mauc\u001b[0m\u001b[0;34m(\u001b[0m\u001b[0mfpr\u001b[0m\u001b[0;34m,\u001b[0m \u001b[0mtpr\u001b[0m\u001b[0;34m)\u001b[0m\u001b[0;34m\u001b[0m\u001b[0;34m\u001b[0m\u001b[0m\n\u001b[1;32m     57\u001b[0m \u001b[0;34m\u001b[0m\u001b[0m\n",
      "\u001b[0;32m/usr/local/lib/python3.11/dist-packages/sklearn/metrics/_ranking.py\u001b[0m in \u001b[0;36mroc_curve\u001b[0;34m(y_true, y_score, pos_label, sample_weight, drop_intermediate)\u001b[0m\n\u001b[1;32m    990\u001b[0m     \u001b[0marray\u001b[0m\u001b[0;34m(\u001b[0m\u001b[0;34m[\u001b[0m\u001b[0;36m1.8\u001b[0m \u001b[0;34m,\u001b[0m \u001b[0;36m0.8\u001b[0m \u001b[0;34m,\u001b[0m \u001b[0;36m0.4\u001b[0m \u001b[0;34m,\u001b[0m \u001b[0;36m0.35\u001b[0m\u001b[0;34m,\u001b[0m \u001b[0;36m0.1\u001b[0m \u001b[0;34m]\u001b[0m\u001b[0;34m)\u001b[0m\u001b[0;34m\u001b[0m\u001b[0;34m\u001b[0m\u001b[0m\n\u001b[1;32m    991\u001b[0m     \"\"\"\n\u001b[0;32m--> 992\u001b[0;31m     fps, tps, thresholds = _binary_clf_curve(\n\u001b[0m\u001b[1;32m    993\u001b[0m         \u001b[0my_true\u001b[0m\u001b[0;34m,\u001b[0m \u001b[0my_score\u001b[0m\u001b[0;34m,\u001b[0m \u001b[0mpos_label\u001b[0m\u001b[0;34m=\u001b[0m\u001b[0mpos_label\u001b[0m\u001b[0;34m,\u001b[0m \u001b[0msample_weight\u001b[0m\u001b[0;34m=\u001b[0m\u001b[0msample_weight\u001b[0m\u001b[0;34m\u001b[0m\u001b[0;34m\u001b[0m\u001b[0m\n\u001b[1;32m    994\u001b[0m     )\n",
      "\u001b[0;32m/usr/local/lib/python3.11/dist-packages/sklearn/metrics/_ranking.py\u001b[0m in \u001b[0;36m_binary_clf_curve\u001b[0;34m(y_true, y_score, pos_label, sample_weight)\u001b[0m\n\u001b[1;32m    749\u001b[0m         \u001b[0;32mraise\u001b[0m \u001b[0mValueError\u001b[0m\u001b[0;34m(\u001b[0m\u001b[0;34m\"{0} format is not supported\"\u001b[0m\u001b[0;34m.\u001b[0m\u001b[0mformat\u001b[0m\u001b[0;34m(\u001b[0m\u001b[0my_type\u001b[0m\u001b[0;34m)\u001b[0m\u001b[0;34m)\u001b[0m\u001b[0;34m\u001b[0m\u001b[0;34m\u001b[0m\u001b[0m\n\u001b[1;32m    750\u001b[0m \u001b[0;34m\u001b[0m\u001b[0m\n\u001b[0;32m--> 751\u001b[0;31m     \u001b[0mcheck_consistent_length\u001b[0m\u001b[0;34m(\u001b[0m\u001b[0my_true\u001b[0m\u001b[0;34m,\u001b[0m \u001b[0my_score\u001b[0m\u001b[0;34m,\u001b[0m \u001b[0msample_weight\u001b[0m\u001b[0;34m)\u001b[0m\u001b[0;34m\u001b[0m\u001b[0;34m\u001b[0m\u001b[0m\n\u001b[0m\u001b[1;32m    752\u001b[0m     \u001b[0my_true\u001b[0m \u001b[0;34m=\u001b[0m \u001b[0mcolumn_or_1d\u001b[0m\u001b[0;34m(\u001b[0m\u001b[0my_true\u001b[0m\u001b[0;34m)\u001b[0m\u001b[0;34m\u001b[0m\u001b[0;34m\u001b[0m\u001b[0m\n\u001b[1;32m    753\u001b[0m     \u001b[0my_score\u001b[0m \u001b[0;34m=\u001b[0m \u001b[0mcolumn_or_1d\u001b[0m\u001b[0;34m(\u001b[0m\u001b[0my_score\u001b[0m\u001b[0;34m)\u001b[0m\u001b[0;34m\u001b[0m\u001b[0;34m\u001b[0m\u001b[0m\n",
      "\u001b[0;32m/usr/local/lib/python3.11/dist-packages/sklearn/utils/validation.py\u001b[0m in \u001b[0;36mcheck_consistent_length\u001b[0;34m(*arrays)\u001b[0m\n\u001b[1;32m    395\u001b[0m     \u001b[0muniques\u001b[0m \u001b[0;34m=\u001b[0m \u001b[0mnp\u001b[0m\u001b[0;34m.\u001b[0m\u001b[0munique\u001b[0m\u001b[0;34m(\u001b[0m\u001b[0mlengths\u001b[0m\u001b[0;34m)\u001b[0m\u001b[0;34m\u001b[0m\u001b[0;34m\u001b[0m\u001b[0m\n\u001b[1;32m    396\u001b[0m     \u001b[0;32mif\u001b[0m \u001b[0mlen\u001b[0m\u001b[0;34m(\u001b[0m\u001b[0muniques\u001b[0m\u001b[0;34m)\u001b[0m \u001b[0;34m>\u001b[0m \u001b[0;36m1\u001b[0m\u001b[0;34m:\u001b[0m\u001b[0;34m\u001b[0m\u001b[0;34m\u001b[0m\u001b[0m\n\u001b[0;32m--> 397\u001b[0;31m         raise ValueError(\n\u001b[0m\u001b[1;32m    398\u001b[0m             \u001b[0;34m\"Found input variables with inconsistent numbers of samples: %r\"\u001b[0m\u001b[0;34m\u001b[0m\u001b[0;34m\u001b[0m\u001b[0m\n\u001b[1;32m    399\u001b[0m             \u001b[0;34m%\u001b[0m \u001b[0;34m[\u001b[0m\u001b[0mint\u001b[0m\u001b[0;34m(\u001b[0m\u001b[0ml\u001b[0m\u001b[0;34m)\u001b[0m \u001b[0;32mfor\u001b[0m \u001b[0ml\u001b[0m \u001b[0;32min\u001b[0m \u001b[0mlengths\u001b[0m\u001b[0;34m]\u001b[0m\u001b[0;34m\u001b[0m\u001b[0;34m\u001b[0m\u001b[0m\n",
      "\u001b[0;31mValueError\u001b[0m: Found input variables with inconsistent numbers of samples: [259, 517]"
     ]
    }
   ],
   "source": [
    "import pandas as pd\n",
    "import matplotlib.pyplot as plt\n",
    "from sklearn.model_selection import train_test_split\n",
    "from sklearn.linear_model import LogisticRegression\n",
    "from sklearn.preprocessing import StandardScaler\n",
    "from sklearn.metrics import (\n",
    "    classification_report,\n",
    "    confusion_matrix,\n",
    "    ConfusionMatrixDisplay,\n",
    "    roc_auc_score,\n",
    "    roc_curve,\n",
    "    auc\n",
    ")\n",
    "\n",
    "# 1. Load and prepare the data\n",
    "# Assuming df4 is already loaded with features and 'stress_label' target\n",
    "X = df4.drop('stress_label', axis=1)\n",
    "y = df4['stress_label']\n",
    "\n",
    "# 2. Split data into train (70%), validation (20%), and test (10%)\n",
    "X_train, X_temp, y_train, y_temp = train_test_split(\n",
    "    X, y, test_size=0.3, random_state=42)\n",
    "X_val, X_test, y_val, y_test = train_test_split(\n",
    "    X_temp, y_temp, test_size=1/3, random_state=42)\n",
    "\n",
    "# Standardize features (important for logistic regression)\n",
    "scaler = StandardScaler()\n",
    "X_train = scaler.fit_transform(X_train)\n",
    "X_val = scaler.transform(X_val)\n",
    "X_test = scaler.transform(X_test)\n",
    "\n",
    "# 3. Train Logistic Regression classifier\n",
    "logreg = LogisticRegression(random_state=42, max_iter=1000)\n",
    "logreg.fit(X_train, y_train)\n",
    "\n",
    "# 4. Evaluate on TEST SET\n",
    "print(\"\\n\" + \"=\"*50)\n",
    "print(\"TEST SET EVALUATION\")\n",
    "print(\"=\"*50)\n",
    "\n",
    "# A. Classification Report\n",
    "y_test_pred = logreg.predict(X_test)\n",
    "print(\"\\nClassification Report:\")\n",
    "print(classification_report(y_test, y_test_pred))\n",
    "\n",
    "# B. Confusion Matrix\n",
    "cm = confusion_matrix(y_test, y_test_pred)\n",
    "disp = ConfusionMatrixDisplay(confusion_matrix=cm)\n",
    "disp.plot(cmap='Blues')\n",
    "plt.title(\"Test Set Confusion Matrix (Logistic Regression)\")\n",
    "plt.show()\n",
    "\n",
    "# C. ROC-AUC Curve\n",
    "# Generate ROC curve with custom legend (4 decimal places)\n",
    "fpr, tpr, _ = roc_curve(y_test, y_test_proba)\n",
    "roc_auc = auc(fpr, tpr)\n",
    "\n",
    "plt.figure()\n",
    "plt.plot(fpr, tpr, color='darkorange', \n",
    "         lw=2, \n",
    "         label=f'Classifier (AUC = {roc_auc:.4f})')  # Force 4 decimal places\n",
    "plt.plot([0, 1], [0, 1], 'k--', lw=2)\n",
    "plt.xlim([0.0, 1.0])\n",
    "plt.ylim([0.0, 1.05])\n",
    "plt.xlabel('False Positive Rate')\n",
    "plt.ylabel('True Positive Rate')\n",
    "plt.title('ROC Curve - Logistic Regression')\n",
    "plt.legend(loc=\"lower right\")\n",
    "plt.show()\n"
   ]
  },
  {
   "cell_type": "markdown",
   "id": "63522adf",
   "metadata": {
    "papermill": {
     "duration": null,
     "end_time": null,
     "exception": null,
     "start_time": null,
     "status": "pending"
    },
    "tags": []
   },
   "source": [
    "2B. 80:20 split"
   ]
  },
  {
   "cell_type": "code",
   "execution_count": null,
   "id": "cfb0d5d7",
   "metadata": {
    "papermill": {
     "duration": null,
     "end_time": null,
     "exception": null,
     "start_time": null,
     "status": "pending"
    },
    "tags": []
   },
   "outputs": [],
   "source": [
    "import pandas as pd\n",
    "import matplotlib.pyplot as plt\n",
    "from sklearn.model_selection import train_test_split\n",
    "from sklearn.linear_model import LogisticRegression\n",
    "from sklearn.metrics import (\n",
    "    classification_report,\n",
    "    confusion_matrix,\n",
    "    ConfusionMatrixDisplay,\n",
    "    roc_auc_score,\n",
    "    roc_curve,\n",
    "    auc\n",
    ")\n",
    "\n",
    "# 1. Load and prepare the data\n",
    "# Assuming df4 is already loaded with features and 'stress_label' target\n",
    "X = df4.drop('stress_label', axis=1)\n",
    "y = df4['stress_label']\n",
    "\n",
    "# 2. Split data into train (80%) and test (20%)\n",
    "X_train, X_test, y_train, y_test = train_test_split(\n",
    "    X, y, test_size=0.2, random_state=42)\n",
    "\n",
    "# 3. Train Logistic Regression classifier\n",
    "lr = LogisticRegression(max_iter=1000, random_state=42)\n",
    "lr.fit(X_train, y_train)\n",
    "\n",
    "# 4. Evaluate on TEST SET\n",
    "print(\"\\n\" + \"=\"*50)\n",
    "print(\"TEST SET EVALUATION (LOGISTIC REGRESSION)\")\n",
    "print(\"=\"*50)\n",
    "\n",
    "# A. Classification Report\n",
    "y_test_pred = lr.predict(X_test)\n",
    "print(\"\\nClassification Report:\")\n",
    "print(classification_report(y_test, y_test_pred, digits=4))\n",
    "\n",
    "# B. Confusion Matrix\n",
    "cm = confusion_matrix(y_test, y_test_pred)\n",
    "disp = ConfusionMatrixDisplay(confusion_matrix=cm)\n",
    "disp.plot(cmap='Blues')\n",
    "plt.title(\"Test Set Confusion Matrix (Logistic Regression)\")\n",
    "plt.show()\n",
    "\n",
    "# C. ROC-AUC Curve (with 4 decimal places)\n",
    "y_test_proba = lr.predict_proba(X_test)[:, 1]\n",
    "fpr, tpr, _ = roc_curve(y_test, y_test_proba)\n",
    "roc_auc = auc(fpr, tpr)\n",
    "\n",
    "plt.figure()\n",
    "plt.plot(fpr, tpr, color='darkblue', \n",
    "         lw=2, \n",
    "         label=f'Logistic Regression (AUC = {roc_auc:.4f})')\n",
    "plt.plot([0, 1], [0, 1], 'k--', lw=2)\n",
    "plt.xlim([0.0, 1.0])\n",
    "plt.ylim([0.0, 1.05])\n",
    "plt.xlabel('False Positive Rate')\n",
    "plt.ylabel('True Positive Rate')\n",
    "plt.title('ROC Curve - Logistic Regression')\n",
    "plt.legend(loc=\"lower right\")\n",
    "plt.show()\n"
   ]
  },
  {
   "cell_type": "markdown",
   "id": "4dfe59a0",
   "metadata": {
    "papermill": {
     "duration": null,
     "end_time": null,
     "exception": null,
     "start_time": null,
     "status": "pending"
    },
    "tags": []
   },
   "source": [
    "# 3. K-Nearest Neighbours"
   ]
  },
  {
   "cell_type": "code",
   "execution_count": null,
   "id": "094e420f",
   "metadata": {
    "papermill": {
     "duration": null,
     "end_time": null,
     "exception": null,
     "start_time": null,
     "status": "pending"
    },
    "tags": []
   },
   "outputs": [],
   "source": [
    "import pandas as pd\n",
    "import matplotlib.pyplot as plt\n",
    "from sklearn.model_selection import train_test_split\n",
    "from sklearn.neighbors import KNeighborsClassifier\n",
    "from sklearn.preprocessing import StandardScaler\n",
    "from sklearn.metrics import (\n",
    "    classification_report,\n",
    "    confusion_matrix,\n",
    "    ConfusionMatrixDisplay,\n",
    "    roc_auc_score,\n",
    "    roc_curve,\n",
    "    auc\n",
    ")\n",
    "\n",
    "# 1. Load and prepare the data\n",
    "# Assuming df4 is already loaded with features and 'stress_label' target\n",
    "X = df4.drop('stress_label', axis=1)\n",
    "y = df4['stress_label']\n",
    "\n",
    "# 2. Split data into train (70%), validation (20%), and test (10%)\n",
    "X_train, X_temp, y_train, y_temp = train_test_split(\n",
    "    X, y, test_size=0.3, random_state=42)\n",
    "X_val, X_test, y_val, y_test = train_test_split(\n",
    "    X_temp, y_temp, test_size=1/3, random_state=42)\n",
    "\n",
    "# Standardize features (critical for KNN)\n",
    "scaler = StandardScaler()\n",
    "X_train = scaler.fit_transform(X_train)\n",
    "X_val = scaler.transform(X_val)\n",
    "X_test = scaler.transform(X_test)\n",
    "\n",
    "# 3. Train KNN classifier\n",
    "knn = KNeighborsClassifier(n_neighbors=5)  # You can tune this parameter\n",
    "knn.fit(X_train, y_train)\n",
    "\n",
    "# 4. Evaluate on TEST SET\n",
    "print(\"\\n\" + \"=\"*50)\n",
    "print(\"TEST SET EVALUATION (KNN)\")\n",
    "print(\"=\"*50)\n",
    "\n",
    "# A. Classification Report\n",
    "y_test_pred = knn.predict(X_test)\n",
    "print(\"\\nClassification Report:\")\n",
    "print(classification_report(y_test, y_test_pred))\n",
    "\n",
    "# B. Confusion Matrix\n",
    "cm = confusion_matrix(y_test, y_test_pred)\n",
    "disp = ConfusionMatrixDisplay(confusion_matrix=cm)\n",
    "disp.plot(cmap='Purples')\n",
    "plt.title(\"Test Set Confusion Matrix (KNN)\")\n",
    "plt.show()\n",
    "\n",
    "# C. ROC-AUC Curve (with 4 decimal places)\n",
    "y_test_proba = knn.predict_proba(X_test)[:, 1]\n",
    "fpr, tpr, _ = roc_curve(y_test, y_test_proba)\n",
    "roc_auc = auc(fpr, tpr)\n",
    "\n",
    "plt.figure()\n",
    "plt.plot(fpr, tpr, color='darkviolet', \n",
    "         lw=2, \n",
    "         label=f'KNN (AUC = {roc_auc:.4f})')\n",
    "plt.plot([0, 1], [0, 1], 'k--', lw=2)\n",
    "plt.xlim([0.0, 1.0])\n",
    "plt.ylim([0.0, 1.05])\n",
    "plt.xlabel('False Positive Rate')\n",
    "plt.ylabel('True Positive Rate')\n",
    "plt.title('ROC Curve - KNN')\n",
    "plt.legend(loc=\"lower right\")\n",
    "plt.show()"
   ]
  },
  {
   "cell_type": "markdown",
   "id": "acd50c71",
   "metadata": {
    "papermill": {
     "duration": null,
     "end_time": null,
     "exception": null,
     "start_time": null,
     "status": "pending"
    },
    "tags": []
   },
   "source": [
    "3B. 80:20 split"
   ]
  },
  {
   "cell_type": "code",
   "execution_count": null,
   "id": "e0afba05",
   "metadata": {
    "papermill": {
     "duration": null,
     "end_time": null,
     "exception": null,
     "start_time": null,
     "status": "pending"
    },
    "tags": []
   },
   "outputs": [],
   "source": [
    "import pandas as pd\n",
    "import matplotlib.pyplot as plt\n",
    "from sklearn.model_selection import train_test_split\n",
    "from sklearn.neighbors import KNeighborsClassifier\n",
    "from sklearn.metrics import (\n",
    "    classification_report,\n",
    "    confusion_matrix,\n",
    "    ConfusionMatrixDisplay,\n",
    "    roc_auc_score,\n",
    "    roc_curve,\n",
    "    auc\n",
    ")\n",
    "\n",
    "# 1. Load and prepare the data\n",
    "# Assuming df4 is already loaded with features and 'stress_label' target\n",
    "X = df4.drop('stress_label', axis=1)\n",
    "y = df4['stress_label']\n",
    "\n",
    "# 2. Split data into train (80%) and test (20%)\n",
    "X_train, X_test, y_train, y_test = train_test_split(\n",
    "    X, y, test_size=0.2, random_state=42)\n",
    "\n",
    "# 3. Train KNN classifier\n",
    "knn = KNeighborsClassifier(n_neighbors=5)\n",
    "knn.fit(X_train, y_train)\n",
    "\n",
    "# 4. Evaluate on TEST SET\n",
    "print(\"\\n\" + \"=\"*50)\n",
    "print(\"TEST SET EVALUATION (KNN)\")\n",
    "print(\"=\"*50)\n",
    "\n",
    "# A. Classification Report\n",
    "y_test_pred = knn.predict(X_test)\n",
    "print(\"\\nClassification Report:\")\n",
    "print(classification_report(y_test, y_test_pred, digits=4))\n",
    "\n",
    "# B. Confusion Matrix\n",
    "cm = confusion_matrix(y_test, y_test_pred)\n",
    "disp = ConfusionMatrixDisplay(confusion_matrix=cm)\n",
    "disp.plot(cmap='Purples')\n",
    "plt.title(\"Test Set Confusion Matrix (KNN)\")\n",
    "plt.show()\n",
    "\n",
    "# C. ROC-AUC Curve (with 4 decimal places)\n",
    "y_test_proba = knn.predict_proba(X_test)[:, 1]\n",
    "fpr, tpr, _ = roc_curve(y_test, y_test_proba)\n",
    "roc_auc = auc(fpr, tpr)\n",
    "\n",
    "plt.figure()\n",
    "plt.plot(fpr, tpr, color='purple', \n",
    "         lw=2, \n",
    "         label=f'KNN (AUC = {roc_auc:.4f})')\n",
    "plt.plot([0, 1], [0, 1], 'k--', lw=2)\n",
    "plt.xlim([0.0, 1.0])\n",
    "plt.ylim([0.0, 1.05])\n",
    "plt.xlabel('False Positive Rate')\n",
    "plt.ylabel('True Positive Rate')\n",
    "plt.title('ROC Curve - KNN')\n",
    "plt.legend(loc=\"lower right\")\n",
    "plt.show()\n"
   ]
  },
  {
   "cell_type": "markdown",
   "id": "3d627c1d",
   "metadata": {
    "papermill": {
     "duration": null,
     "end_time": null,
     "exception": null,
     "start_time": null,
     "status": "pending"
    },
    "tags": []
   },
   "source": [
    "# 4. Linear Discriminant Analysis"
   ]
  },
  {
   "cell_type": "code",
   "execution_count": null,
   "id": "5730cfde",
   "metadata": {
    "papermill": {
     "duration": null,
     "end_time": null,
     "exception": null,
     "start_time": null,
     "status": "pending"
    },
    "tags": []
   },
   "outputs": [],
   "source": [
    "import pandas as pd\n",
    "import matplotlib.pyplot as plt\n",
    "from sklearn.model_selection import train_test_split\n",
    "from sklearn.discriminant_analysis import LinearDiscriminantAnalysis\n",
    "from sklearn.preprocessing import StandardScaler\n",
    "from sklearn.metrics import (\n",
    "    classification_report,\n",
    "    confusion_matrix,\n",
    "    ConfusionMatrixDisplay,\n",
    "    roc_auc_score,\n",
    "    roc_curve,\n",
    "    auc\n",
    ")\n",
    "\n",
    "# 1. Load and prepare the data\n",
    "# Assuming df4 is already loaded with features and 'stress_label' target\n",
    "X = df4.drop('stress_label', axis=1)\n",
    "y = df4['stress_label']\n",
    "\n",
    "# 2. Split data into train (70%), validation (20%), and test (10%)\n",
    "X_train, X_temp, y_train, y_temp = train_test_split(\n",
    "    X, y, test_size=0.3, random_state=42)\n",
    "X_val, X_test, y_val, y_test = train_test_split(\n",
    "    X_temp, y_temp, test_size=1/3, random_state=42)\n",
    "\n",
    "# Standardize features (recommended for LDA)\n",
    "scaler = StandardScaler()\n",
    "X_train = scaler.fit_transform(X_train)\n",
    "X_val = scaler.transform(X_val)\n",
    "X_test = scaler.transform(X_test)\n",
    "\n",
    "# 3. Train LDA classifier\n",
    "lda = LinearDiscriminantAnalysis()\n",
    "lda.fit(X_train, y_train)\n",
    "\n",
    "# 4. Evaluate on TEST SET\n",
    "print(\"\\n\" + \"=\"*50)\n",
    "print(\"TEST SET EVALUATION (LDA)\")\n",
    "print(\"=\"*50)\n",
    "\n",
    "# A. Classification Report\n",
    "y_test_pred = lda.predict(X_test)\n",
    "print(\"\\nClassification Report:\")\n",
    "print(classification_report(y_test, y_test_pred))\n",
    "\n",
    "# B. Confusion Matrix\n",
    "cm = confusion_matrix(y_test, y_test_pred)\n",
    "disp = ConfusionMatrixDisplay(confusion_matrix=cm)\n",
    "disp.plot(cmap='Reds')\n",
    "plt.title(\"Test Set Confusion Matrix (LDA)\")\n",
    "plt.show()\n",
    "\n",
    "# C. ROC-AUC Curve (with 4 decimal places)\n",
    "y_test_proba = lda.predict_proba(X_test)[:, 1]\n",
    "fpr, tpr, _ = roc_curve(y_test, y_test_proba)\n",
    "roc_auc = auc(fpr, tpr)\n",
    "\n",
    "plt.figure()\n",
    "plt.plot(fpr, tpr, color='darkred', \n",
    "         lw=2, \n",
    "         label=f'LDA (AUC = {roc_auc:.4f})')\n",
    "plt.plot([0, 1], [0, 1], 'k--', lw=2)\n",
    "plt.xlim([0.0, 1.0])\n",
    "plt.ylim([0.0, 1.05])\n",
    "plt.xlabel('False Positive Rate')\n",
    "plt.ylabel('True Positive Rate')\n",
    "plt.title('ROC Curve - Linear Discriminant Analysis')\n",
    "plt.legend(loc=\"lower right\")\n",
    "plt.show()\n",
    "\n",
    "# D. Feature Coefficients (LDA specific)\n",
    "coefficients = pd.Series(lda.coef_[0], index=X.columns)\n",
    "coefficients.sort_values(ascending=False).plot(kind='bar', color='red')\n",
    "plt.title(\"LDA Feature Coefficients\")\n",
    "plt.show()"
   ]
  },
  {
   "cell_type": "markdown",
   "id": "cc4cc8d2",
   "metadata": {
    "papermill": {
     "duration": null,
     "end_time": null,
     "exception": null,
     "start_time": null,
     "status": "pending"
    },
    "tags": []
   },
   "source": [
    "4B. 80:20 Split"
   ]
  },
  {
   "cell_type": "code",
   "execution_count": null,
   "id": "e0bb9d5c",
   "metadata": {
    "papermill": {
     "duration": null,
     "end_time": null,
     "exception": null,
     "start_time": null,
     "status": "pending"
    },
    "tags": []
   },
   "outputs": [],
   "source": [
    "import pandas as pd\n",
    "import matplotlib.pyplot as plt\n",
    "from sklearn.model_selection import train_test_split\n",
    "from sklearn.discriminant_analysis import LinearDiscriminantAnalysis\n",
    "from sklearn.metrics import (\n",
    "    classification_report,\n",
    "    confusion_matrix,\n",
    "    ConfusionMatrixDisplay,\n",
    "    roc_auc_score,\n",
    "    roc_curve,\n",
    "    auc\n",
    ")\n",
    "\n",
    "# 1. Load and prepare the data\n",
    "# Assuming df4 is already loaded with features and 'stress_label' target\n",
    "X = df4.drop('stress_label', axis=1)\n",
    "y = df4['stress_label']\n",
    "\n",
    "# 2. Split data into train (80%) and test (20%)\n",
    "X_train, X_test, y_train, y_test = train_test_split(\n",
    "    X, y, test_size=0.2, random_state=42)\n",
    "\n",
    "# 3. Train LDA classifier\n",
    "lda = LinearDiscriminantAnalysis()\n",
    "lda.fit(X_train, y_train)\n",
    "\n",
    "# 4. Evaluate on TEST SET\n",
    "print(\"\\n\" + \"=\"*50)\n",
    "print(\"TEST SET EVALUATION (LDA)\")\n",
    "print(\"=\"*50)\n",
    "\n",
    "# A. Classification Report\n",
    "y_test_pred = lda.predict(X_test)\n",
    "print(\"\\nClassification Report:\")\n",
    "print(classification_report(y_test, y_test_pred, digits=4))\n",
    "\n",
    "# B. Confusion Matrix\n",
    "cm = confusion_matrix(y_test, y_test_pred)\n",
    "disp = ConfusionMatrixDisplay(confusion_matrix=cm)\n",
    "disp.plot(cmap='Oranges')\n",
    "plt.title(\"Test Set Confusion Matrix (LDA)\")\n",
    "plt.show()\n",
    "\n",
    "# C. ROC-AUC Curve (with 4 decimal places)\n",
    "y_test_proba = lda.predict_proba(X_test)[:, 1]\n",
    "fpr, tpr, _ = roc_curve(y_test, y_test_proba)\n",
    "roc_auc = auc(fpr, tpr)\n",
    "\n",
    "plt.figure()\n",
    "plt.plot(fpr, tpr, color='darkorange', \n",
    "         lw=2, \n",
    "         label=f'LDA (AUC = {roc_auc:.4f})')\n",
    "plt.plot([0, 1], [0, 1], 'k--', lw=2)\n",
    "plt.xlim([0.0, 1.0])\n",
    "plt.ylim([0.0, 1.05])\n",
    "plt.xlabel('False Positive Rate')\n",
    "plt.ylabel('True Positive Rate')\n",
    "plt.title('ROC Curve - LDA')\n",
    "plt.legend(loc=\"lower right\")\n",
    "plt.show()\n"
   ]
  },
  {
   "cell_type": "markdown",
   "id": "43959c4f",
   "metadata": {
    "papermill": {
     "duration": null,
     "end_time": null,
     "exception": null,
     "start_time": null,
     "status": "pending"
    },
    "tags": []
   },
   "source": [
    "# 5. Naive Bayes Classifier"
   ]
  },
  {
   "cell_type": "code",
   "execution_count": null,
   "id": "a73a9f12",
   "metadata": {
    "papermill": {
     "duration": null,
     "end_time": null,
     "exception": null,
     "start_time": null,
     "status": "pending"
    },
    "tags": []
   },
   "outputs": [],
   "source": [
    "import pandas as pd\n",
    "import matplotlib.pyplot as plt\n",
    "from sklearn.model_selection import train_test_split\n",
    "from sklearn.naive_bayes import GaussianNB\n",
    "from sklearn.preprocessing import StandardScaler\n",
    "from sklearn.metrics import (\n",
    "    classification_report,\n",
    "    confusion_matrix,\n",
    "    ConfusionMatrixDisplay,\n",
    "    roc_auc_score,\n",
    "    roc_curve,\n",
    "    auc\n",
    ")\n",
    "\n",
    "# 1. Load and prepare the data\n",
    "# Assuming df4 is already loaded with features and 'stress_label' target\n",
    "X = df4.drop('stress_label', axis=1)\n",
    "y = df4['stress_label']\n",
    "\n",
    "# 2. Split data into train (70%), validation (20%), and test (10%)\n",
    "X_train, X_temp, y_train, y_temp = train_test_split(\n",
    "    X, y, test_size=0.3, random_state=42)\n",
    "X_val, X_test, y_val, y_test = train_test_split(\n",
    "    X_temp, y_temp, test_size=1/3, random_state=42)\n",
    "\n",
    "# Standardize features (important for GaussianNB)\n",
    "scaler = StandardScaler()\n",
    "X_train = scaler.fit_transform(X_train)\n",
    "X_val = scaler.transform(X_val)\n",
    "X_test = scaler.transform(X_test)\n",
    "\n",
    "# 3. Train Naive Bayes classifier\n",
    "nb = GaussianNB()\n",
    "nb.fit(X_train, y_train)\n",
    "\n",
    "# 4. Evaluate on TEST SET\n",
    "print(\"\\n\" + \"=\"*50)\n",
    "print(\"TEST SET EVALUATION (Naive Bayes)\")\n",
    "print(\"=\"*50)\n",
    "\n",
    "# A. Classification Report\n",
    "y_test_pred = nb.predict(X_test)\n",
    "print(\"\\nClassification Report:\")\n",
    "print(classification_report(y_test, y_test_pred))\n",
    "\n",
    "# B. Confusion Matrix\n",
    "cm = confusion_matrix(y_test, y_test_pred)\n",
    "disp = ConfusionMatrixDisplay(confusion_matrix=cm)\n",
    "disp.plot(cmap='Purples')\n",
    "plt.title(\"Test Set Confusion Matrix (Naive Bayes)\")\n",
    "plt.show()\n",
    "\n",
    "# C. ROC-AUC Curve (with 4 decimal places)\n",
    "y_test_proba = nb.predict_proba(X_test)[:, 1]\n",
    "fpr, tpr, _ = roc_curve(y_test, y_test_proba)\n",
    "roc_auc = auc(fpr, tpr)\n",
    "\n",
    "plt.figure()\n",
    "plt.plot(fpr, tpr, color='purple', \n",
    "         lw=2, \n",
    "         label=f'Naive Bayes (AUC = {roc_auc:.4f})')\n",
    "plt.plot([0, 1], [0, 1], 'k--', lw=2)\n",
    "plt.xlim([0.0, 1.0])\n",
    "plt.ylim([0.0, 1.05])\n",
    "plt.xlabel('False Positive Rate')\n",
    "plt.ylabel('True Positive Rate')\n",
    "plt.title('ROC Curve - Gaussian Naive Bayes')\n",
    "plt.legend(loc=\"lower right\")\n",
    "plt.show()"
   ]
  },
  {
   "cell_type": "markdown",
   "id": "311929a3",
   "metadata": {
    "papermill": {
     "duration": null,
     "end_time": null,
     "exception": null,
     "start_time": null,
     "status": "pending"
    },
    "tags": []
   },
   "source": [
    "5B. 80:20 Split"
   ]
  },
  {
   "cell_type": "code",
   "execution_count": null,
   "id": "3820be12",
   "metadata": {
    "papermill": {
     "duration": null,
     "end_time": null,
     "exception": null,
     "start_time": null,
     "status": "pending"
    },
    "tags": []
   },
   "outputs": [],
   "source": [
    "import pandas as pd\n",
    "import matplotlib.pyplot as plt\n",
    "from sklearn.model_selection import train_test_split\n",
    "from sklearn.naive_bayes import GaussianNB\n",
    "from sklearn.metrics import (\n",
    "    classification_report,\n",
    "    confusion_matrix,\n",
    "    ConfusionMatrixDisplay,\n",
    "    roc_auc_score,\n",
    "    roc_curve,\n",
    "    auc\n",
    ")\n",
    "\n",
    "# 1. Load and prepare the data\n",
    "# Assuming df4 is already loaded with features and 'stress_label' target\n",
    "X = df4.drop('stress_label', axis=1)\n",
    "y = df4['stress_label']\n",
    "\n",
    "# 2. Split data into train (80%) and test (20%)\n",
    "X_train, X_test, y_train, y_test = train_test_split(\n",
    "    X, y, test_size=0.2, random_state=42)\n",
    "\n",
    "# 3. Train Gaussian Naive Bayes classifier\n",
    "gnb = GaussianNB()\n",
    "gnb.fit(X_train, y_train)\n",
    "\n",
    "# 4. Evaluate on TEST SET\n",
    "print(\"\\n\" + \"=\"*50)\n",
    "print(\"TEST SET EVALUATION (GAUSSIAN NAIVE BAYES)\")\n",
    "print(\"=\"*50)\n",
    "\n",
    "# A. Classification Report\n",
    "y_test_pred = gnb.predict(X_test)\n",
    "print(\"\\nClassification Report:\")\n",
    "print(classification_report(y_test, y_test_pred, digits=4))\n",
    "\n",
    "# B. Confusion Matrix\n",
    "cm = confusion_matrix(y_test, y_test_pred)\n",
    "disp = ConfusionMatrixDisplay(confusion_matrix=cm)\n",
    "disp.plot(cmap='Reds')\n",
    "plt.title(\"Test Set Confusion Matrix (Gaussian NB)\")\n",
    "plt.show()\n",
    "\n",
    "# C. ROC-AUC Curve (with 4 decimal places)\n",
    "y_test_proba = gnb.predict_proba(X_test)[:, 1]\n",
    "fpr, tpr, _ = roc_curve(y_test, y_test_proba)\n",
    "roc_auc = auc(fpr, tpr)\n",
    "\n",
    "plt.figure()\n",
    "plt.plot(fpr, tpr, color='darkred', \n",
    "         lw=2, \n",
    "         label=f'Gaussian NB (AUC = {roc_auc:.4f})')\n",
    "plt.plot([0, 1], [0, 1], 'k--', lw=2)\n",
    "plt.xlim([0.0, 1.0])\n",
    "plt.ylim([0.0, 1.05])\n",
    "plt.xlabel('False Positive Rate')\n",
    "plt.ylabel('True Positive Rate')\n",
    "plt.title('ROC Curve - Gaussian Naive Bayes')\n",
    "plt.legend(loc=\"lower right\")\n",
    "plt.show()\n"
   ]
  },
  {
   "cell_type": "markdown",
   "id": "009a6cdc",
   "metadata": {
    "papermill": {
     "duration": null,
     "end_time": null,
     "exception": null,
     "start_time": null,
     "status": "pending"
    },
    "tags": []
   },
   "source": [
    "# 6. Artificial Neural Network"
   ]
  },
  {
   "cell_type": "code",
   "execution_count": null,
   "id": "48292659",
   "metadata": {
    "papermill": {
     "duration": null,
     "end_time": null,
     "exception": null,
     "start_time": null,
     "status": "pending"
    },
    "tags": []
   },
   "outputs": [],
   "source": [
    "import pandas as pd\n",
    "import matplotlib.pyplot as plt\n",
    "from sklearn.model_selection import train_test_split\n",
    "from sklearn.metrics import (\n",
    "    classification_report,\n",
    "    confusion_matrix,\n",
    "    ConfusionMatrixDisplay,\n",
    "    roc_auc_score,\n",
    "    roc_curve,\n",
    "    auc\n",
    ")\n",
    "import tensorflow as tf\n",
    "from tensorflow.keras.models import Sequential\n",
    "from tensorflow.keras.layers import Dense\n",
    "from tensorflow.keras.optimizers import Adagrad\n",
    "\n",
    "# 1. Load and prepare the data\n",
    "# Assuming df4 is already loaded with features and 'stress_label' target\n",
    "X = df4.drop('stress_label', axis=1)\n",
    "y = df4['stress_label']\n",
    "\n",
    "# 2. Split data into train (80%) and test (20%)\n",
    "X_train, X_test, y_train, y_test = train_test_split(\n",
    "    X, y, test_size=0.2, random_state=42)\n",
    "\n",
    "# 3. Build the ANN model\n",
    "model = Sequential([\n",
    "    Dense(16, activation='relu', input_shape=(X_train.shape[1],)),\n",
    "    Dense(32, activation='relu'),\n",
    "    Dense(64, activation='relu'),\n",
    "    Dense(1, activation='sigmoid')  # Binary output\n",
    "])\n",
    "\n",
    "# 4. Compile the model\n",
    "optimizer = Adagrad(learning_rate=0.01)\n",
    "model.compile(optimizer=optimizer, loss='binary_crossentropy', metrics=['accuracy'])\n",
    "\n",
    "# 5. Train the model\n",
    "history = model.fit(X_train, y_train, epochs=150, batch_size=64, verbose=2)\n",
    "\n",
    "# 6. Evaluate on TEST SET\n",
    "print(\"\\n\" + \"=\"*50)\n",
    "print(\"TEST SET EVALUATION (ANN)\")\n",
    "print(\"=\"*50)\n",
    "\n",
    "# Predict class labels\n",
    "y_test_proba = model.predict(X_test).flatten()\n",
    "y_test_pred = (y_test_proba >= 0.5).astype(int)\n",
    "\n",
    "# A. Classification Report\n",
    "print(\"\\nClassification Report:\")\n",
    "print(classification_report(y_test, y_test_pred, digits=4))\n",
    "\n",
    "# B. Confusion Matrix\n",
    "cm = confusion_matrix(y_test, y_test_pred)\n",
    "disp = ConfusionMatrixDisplay(confusion_matrix=cm)\n",
    "disp.plot(cmap='Blues')\n",
    "plt.title(\"Test Set Confusion Matrix (ANN)\")\n",
    "plt.show()\n",
    "\n",
    "# C. ROC-AUC Curve (with 4 decimal places)\n",
    "fpr, tpr, _ = roc_curve(y_test, y_test_proba)\n",
    "roc_auc = auc(fpr, tpr)\n",
    "\n",
    "plt.figure()\n",
    "plt.plot(fpr, tpr, color='blue', \n",
    "         lw=2, \n",
    "         label=f'ANN (AUC = {roc_auc:.4f})')\n",
    "plt.plot([0, 1], [0, 1], 'k--', lw=2)\n",
    "plt.xlim([0.0, 1.0])\n",
    "plt.ylim([0.0, 1.05])\n",
    "plt.xlabel('False Positive Rate')\n",
    "plt.ylabel('True Positive Rate')\n",
    "plt.title('ROC Curve - ANN')\n",
    "plt.legend(loc=\"lower right\")\n",
    "plt.show()\n"
   ]
  },
  {
   "cell_type": "markdown",
   "id": "ee1b2658",
   "metadata": {
    "papermill": {
     "duration": null,
     "end_time": null,
     "exception": null,
     "start_time": null,
     "status": "pending"
    },
    "tags": []
   },
   "source": [
    "# APPLY SMOTE"
   ]
  },
  {
   "cell_type": "code",
   "execution_count": null,
   "id": "b7259c92",
   "metadata": {
    "execution": {
     "iopub.execute_input": "2025-06-08T14:32:13.739935Z",
     "iopub.status.busy": "2025-06-08T14:32:13.739191Z",
     "iopub.status.idle": "2025-06-08T14:32:19.926016Z",
     "shell.execute_reply": "2025-06-08T14:32:19.925249Z",
     "shell.execute_reply.started": "2025-06-08T14:32:13.739910Z"
    },
    "papermill": {
     "duration": null,
     "end_time": null,
     "exception": null,
     "start_time": null,
     "status": "pending"
    },
    "tags": []
   },
   "outputs": [],
   "source": [
    "pip install --upgrade scikit-learn imbalanced-learn"
   ]
  },
  {
   "cell_type": "code",
   "execution_count": null,
   "id": "7e9113fb",
   "metadata": {
    "execution": {
     "iopub.execute_input": "2025-06-08T14:32:22.422807Z",
     "iopub.status.busy": "2025-06-08T14:32:22.422063Z",
     "iopub.status.idle": "2025-06-08T14:32:28.351800Z",
     "shell.execute_reply": "2025-06-08T14:32:28.351072Z",
     "shell.execute_reply.started": "2025-06-08T14:32:22.422778Z"
    },
    "papermill": {
     "duration": null,
     "end_time": null,
     "exception": null,
     "start_time": null,
     "status": "pending"
    },
    "tags": []
   },
   "outputs": [],
   "source": [
    "!pip install --quiet --upgrade scikit-learn==1.4.2 imbalanced-learn==0.12.3"
   ]
  },
  {
   "cell_type": "code",
   "execution_count": null,
   "id": "4cea1bdb",
   "metadata": {
    "execution": {
     "iopub.execute_input": "2025-06-08T14:32:34.955674Z",
     "iopub.status.busy": "2025-06-08T14:32:34.954938Z",
     "iopub.status.idle": "2025-06-08T14:32:35.143405Z",
     "shell.execute_reply": "2025-06-08T14:32:35.142892Z",
     "shell.execute_reply.started": "2025-06-08T14:32:34.955645Z"
    },
    "papermill": {
     "duration": null,
     "end_time": null,
     "exception": null,
     "start_time": null,
     "status": "pending"
    },
    "tags": []
   },
   "outputs": [],
   "source": [
    "import pandas as pd\n",
    "from imblearn.over_sampling import SMOTE\n",
    "\n",
    "# Separate features and target\n",
    "X = df4.drop('stress_label', axis=1)\n",
    "y = df4['stress_label']\n",
    "\n",
    "# Apply SMOTE on entire data (not splitting here since you want balanced df5)\n",
    "smote = SMOTE(random_state=42)\n",
    "X_resampled, y_resampled = smote.fit_resample(X, y)\n",
    "\n",
    "# Combine back into a new dataframe\n",
    "df5 = pd.DataFrame(X_resampled, columns=X.columns)\n",
    "df5['stress_label'] = y_resampled\n",
    "\n",
    "# Check the new class distribution\n",
    "print(df5['stress_label'].value_counts())\n"
   ]
  },
  {
   "cell_type": "markdown",
   "id": "7e296e1b",
   "metadata": {
    "papermill": {
     "duration": null,
     "end_time": null,
     "exception": null,
     "start_time": null,
     "status": "pending"
    },
    "tags": []
   },
   "source": [
    "# CLASSIFICATION REPORTS: With SMOTE"
   ]
  },
  {
   "cell_type": "markdown",
   "id": "35932711",
   "metadata": {
    "papermill": {
     "duration": null,
     "end_time": null,
     "exception": null,
     "start_time": null,
     "status": "pending"
    },
    "tags": []
   },
   "source": [
    "# A. Decision Tree"
   ]
  },
  {
   "cell_type": "code",
   "execution_count": null,
   "id": "75dd21c9",
   "metadata": {
    "execution": {
     "iopub.execute_input": "2025-06-08T14:34:58.297356Z",
     "iopub.status.busy": "2025-06-08T14:34:58.296398Z",
     "iopub.status.idle": "2025-06-08T14:34:58.639437Z",
     "shell.execute_reply": "2025-06-08T14:34:58.638840Z",
     "shell.execute_reply.started": "2025-06-08T14:34:58.297330Z"
    },
    "papermill": {
     "duration": null,
     "end_time": null,
     "exception": null,
     "start_time": null,
     "status": "pending"
    },
    "tags": []
   },
   "outputs": [],
   "source": [
    "import pandas as pd\n",
    "import matplotlib.pyplot as plt\n",
    "from sklearn.model_selection import train_test_split\n",
    "from sklearn.tree import DecisionTreeClassifier\n",
    "from sklearn.metrics import (\n",
    "    classification_report,\n",
    "    confusion_matrix,\n",
    "    ConfusionMatrixDisplay,\n",
    "    roc_auc_score,\n",
    "    roc_curve,\n",
    "    auc\n",
    ")\n",
    "\n",
    "# 1. Load and prepare the data\n",
    "# Assuming df4 is already loaded with features and 'stress_label' target\n",
    "X = df5.drop('stress_label', axis=1)\n",
    "y = df5['stress_label']\n",
    "\n",
    "# 2. Split data into train (80%) and test (20%)\n",
    "X_train, X_test, y_train, y_test = train_test_split(\n",
    "    X, y, test_size=0.2, random_state=42)\n",
    "\n",
    "# 3. Train Decision Tree classifier\n",
    "dtree = DecisionTreeClassifier(random_state=42)\n",
    "dtree.fit(X_train, y_train)\n",
    "\n",
    "# 4. Evaluate on TEST SET\n",
    "print(\"\\n\" + \"=\"*50)\n",
    "print(\"TEST SET EVALUATION (DECISION TREE)\")\n",
    "print(\"=\"*50)\n",
    "\n",
    "# A. Classification Report\n",
    "y_test_pred = dtree.predict(X_test)\n",
    "print(\"\\nClassification Report:\")\n",
    "print(classification_report(y_test, y_test_pred,digits=4))\n",
    "\n",
    "# B. Confusion Matrix\n",
    "cm = confusion_matrix(y_test, y_test_pred)\n",
    "disp = ConfusionMatrixDisplay(confusion_matrix=cm)\n",
    "disp.plot(cmap='Greens')\n",
    "plt.title(\"Test Set Confusion Matrix (Decision Tree)\")\n",
    "plt.show()\n",
    "\n",
    "# C. ROC-AUC Curve (with 4 decimal places)\n",
    "y_test_proba = dtree.predict_proba(X_test)[:, 1]\n",
    "fpr, tpr, _ = roc_curve(y_test, y_test_proba)\n",
    "roc_auc = auc(fpr, tpr)\n",
    "\n",
    "plt.figure()\n",
    "plt.plot(fpr, tpr, color='darkgreen', \n",
    "         lw=2, \n",
    "         label=f'Decision Tree (AUC = {roc_auc:.4f})')\n",
    "plt.plot([0, 1], [0, 1], 'k--', lw=2)\n",
    "plt.xlim([0.0, 1.0])\n",
    "plt.ylim([0.0, 1.05])\n",
    "plt.xlabel('False Positive Rate')\n",
    "plt.ylabel('True Positive Rate')\n",
    "plt.title('ROC Curve - Decision Tree')\n",
    "plt.legend(loc=\"lower right\")\n",
    "plt.show()"
   ]
  },
  {
   "cell_type": "markdown",
   "id": "1a96b850",
   "metadata": {
    "papermill": {
     "duration": null,
     "end_time": null,
     "exception": null,
     "start_time": null,
     "status": "pending"
    },
    "tags": []
   },
   "source": [
    "# B. Logistic Regression"
   ]
  },
  {
   "cell_type": "code",
   "execution_count": null,
   "id": "d877fea6",
   "metadata": {
    "execution": {
     "iopub.execute_input": "2025-06-08T14:46:36.716572Z",
     "iopub.status.busy": "2025-06-08T14:46:36.715994Z",
     "iopub.status.idle": "2025-06-08T14:46:41.988653Z",
     "shell.execute_reply": "2025-06-08T14:46:41.987996Z",
     "shell.execute_reply.started": "2025-06-08T14:46:36.716550Z"
    },
    "papermill": {
     "duration": null,
     "end_time": null,
     "exception": null,
     "start_time": null,
     "status": "pending"
    },
    "tags": []
   },
   "outputs": [],
   "source": [
    "import pandas as pd\n",
    "import matplotlib.pyplot as plt\n",
    "from sklearn.model_selection import train_test_split\n",
    "from sklearn.linear_model import LogisticRegression\n",
    "from sklearn.metrics import (\n",
    "    classification_report,\n",
    "    confusion_matrix,\n",
    "    ConfusionMatrixDisplay,\n",
    "    roc_auc_score,\n",
    "    roc_curve,\n",
    "    auc\n",
    ")\n",
    "\n",
    "# 1. Load and prepare the data\n",
    "# Assuming df4 is already loaded with features and 'stress_label' target\n",
    "X = df5.drop('stress_label', axis=1)\n",
    "y = df5['stress_label']\n",
    "\n",
    "# 2. Split data into train (80%) and test (20%)\n",
    "X_train, X_test, y_train, y_test = train_test_split(\n",
    "    X, y, test_size=0.2, random_state=42)\n",
    "\n",
    "# 3. Train Logistic Regression classifier\n",
    "lr = LogisticRegression(max_iter=1000, random_state=42)\n",
    "lr.fit(X_train, y_train)\n",
    "\n",
    "# 4. Evaluate on TEST SET\n",
    "print(\"\\n\" + \"=\"*50)\n",
    "print(\"TEST SET EVALUATION (LOGISTIC REGRESSION)\")\n",
    "print(\"=\"*50)\n",
    "\n",
    "# A. Classification Report\n",
    "y_test_pred = lr.predict(X_test)\n",
    "print(\"\\nClassification Report:\")\n",
    "print(classification_report(y_test, y_test_pred, digits=4))\n",
    "\n",
    "# B. Confusion Matrix\n",
    "cm = confusion_matrix(y_test, y_test_pred)\n",
    "disp = ConfusionMatrixDisplay(confusion_matrix=cm)\n",
    "disp.plot(cmap='Blues')\n",
    "plt.title(\"Test Set Confusion Matrix (Logistic Regression)\")\n",
    "plt.show()\n",
    "\n",
    "# C. ROC-AUC Curve (with 4 decimal places)\n",
    "y_test_proba = lr.predict_proba(X_test)[:, 1]\n",
    "fpr, tpr, _ = roc_curve(y_test, y_test_proba)\n",
    "roc_auc = auc(fpr, tpr)\n",
    "\n",
    "plt.figure()\n",
    "plt.plot(fpr, tpr, color='darkblue', \n",
    "         lw=2, \n",
    "         label=f'Logistic Regression (AUC = {roc_auc:.4f})')\n",
    "plt.plot([0, 1], [0, 1], 'k--', lw=2)\n",
    "plt.xlim([0.0, 1.0])\n",
    "plt.ylim([0.0, 1.05])\n",
    "plt.xlabel('False Positive Rate')\n",
    "plt.ylabel('True Positive Rate')\n",
    "plt.title('ROC Curve - Logistic Regression')\n",
    "plt.legend(loc=\"lower right\")\n",
    "plt.show()\n"
   ]
  },
  {
   "cell_type": "markdown",
   "id": "b3d2475b",
   "metadata": {
    "papermill": {
     "duration": null,
     "end_time": null,
     "exception": null,
     "start_time": null,
     "status": "pending"
    },
    "tags": []
   },
   "source": [
    "# C. K-Nearest Neighbours"
   ]
  },
  {
   "cell_type": "code",
   "execution_count": null,
   "id": "b1fd1148",
   "metadata": {
    "execution": {
     "iopub.execute_input": "2025-06-08T14:50:26.946106Z",
     "iopub.status.busy": "2025-06-08T14:50:26.945820Z",
     "iopub.status.idle": "2025-06-08T14:50:27.505569Z",
     "shell.execute_reply": "2025-06-08T14:50:27.504955Z",
     "shell.execute_reply.started": "2025-06-08T14:50:26.946088Z"
    },
    "papermill": {
     "duration": null,
     "end_time": null,
     "exception": null,
     "start_time": null,
     "status": "pending"
    },
    "tags": []
   },
   "outputs": [],
   "source": [
    "import pandas as pd\n",
    "import matplotlib.pyplot as plt\n",
    "from sklearn.model_selection import train_test_split\n",
    "from sklearn.neighbors import KNeighborsClassifier\n",
    "from sklearn.metrics import (\n",
    "    classification_report,\n",
    "    confusion_matrix,\n",
    "    ConfusionMatrixDisplay,\n",
    "    roc_auc_score,\n",
    "    roc_curve,\n",
    "    auc\n",
    ")\n",
    "\n",
    "# 1. Load and prepare the data\n",
    "# Assuming df4 is already loaded with features and 'stress_label' target\n",
    "X = df5.drop('stress_label', axis=1)\n",
    "y = df5['stress_label']\n",
    "\n",
    "# 2. Split data into train (80%) and test (20%)\n",
    "X_train, X_test, y_train, y_test = train_test_split(\n",
    "    X, y, test_size=0.2, random_state=42)\n",
    "\n",
    "# 3. Train KNN classifier\n",
    "knn = KNeighborsClassifier(n_neighbors=5)\n",
    "knn.fit(X_train, y_train)\n",
    "\n",
    "# 4. Evaluate on TEST SET\n",
    "print(\"\\n\" + \"=\"*50)\n",
    "print(\"TEST SET EVALUATION (KNN)\")\n",
    "print(\"=\"*50)\n",
    "\n",
    "# A. Classification Report\n",
    "y_test_pred = knn.predict(X_test)\n",
    "print(\"\\nClassification Report:\")\n",
    "print(classification_report(y_test, y_test_pred, digits=4))\n",
    "\n",
    "# B. Confusion Matrix\n",
    "cm = confusion_matrix(y_test, y_test_pred)\n",
    "disp = ConfusionMatrixDisplay(confusion_matrix=cm)\n",
    "disp.plot(cmap='Purples')\n",
    "plt.title(\"Test Set Confusion Matrix (KNN)\")\n",
    "plt.show()\n",
    "\n",
    "# C. ROC-AUC Curve (with 4 decimal places)\n",
    "y_test_proba = knn.predict_proba(X_test)[:, 1]\n",
    "fpr, tpr, _ = roc_curve(y_test, y_test_proba)\n",
    "roc_auc = auc(fpr, tpr)\n",
    "\n",
    "plt.figure()\n",
    "plt.plot(fpr, tpr, color='purple', \n",
    "         lw=2, \n",
    "         label=f'KNN (AUC = {roc_auc:.4f})')\n",
    "plt.plot([0, 1], [0, 1], 'k--', lw=2)\n",
    "plt.xlim([0.0, 1.0])\n",
    "plt.ylim([0.0, 1.05])\n",
    "plt.xlabel('False Positive Rate')\n",
    "plt.ylabel('True Positive Rate')\n",
    "plt.title('ROC Curve - KNN')\n",
    "plt.legend(loc=\"lower right\")\n",
    "plt.show()\n"
   ]
  },
  {
   "cell_type": "markdown",
   "id": "00fbe9a0",
   "metadata": {
    "papermill": {
     "duration": null,
     "end_time": null,
     "exception": null,
     "start_time": null,
     "status": "pending"
    },
    "tags": []
   },
   "source": [
    "# D. Linear Discriminant Analysis"
   ]
  },
  {
   "cell_type": "code",
   "execution_count": null,
   "id": "a98635e1",
   "metadata": {
    "execution": {
     "iopub.execute_input": "2025-06-08T14:57:39.135743Z",
     "iopub.status.busy": "2025-06-08T14:57:39.134944Z",
     "iopub.status.idle": "2025-06-08T14:57:39.512996Z",
     "shell.execute_reply": "2025-06-08T14:57:39.512374Z",
     "shell.execute_reply.started": "2025-06-08T14:57:39.135719Z"
    },
    "papermill": {
     "duration": null,
     "end_time": null,
     "exception": null,
     "start_time": null,
     "status": "pending"
    },
    "tags": []
   },
   "outputs": [],
   "source": [
    "import pandas as pd\n",
    "import matplotlib.pyplot as plt\n",
    "from sklearn.model_selection import train_test_split\n",
    "from sklearn.discriminant_analysis import LinearDiscriminantAnalysis\n",
    "from sklearn.metrics import (\n",
    "    classification_report,\n",
    "    confusion_matrix,\n",
    "    ConfusionMatrixDisplay,\n",
    "    roc_auc_score,\n",
    "    roc_curve,\n",
    "    auc\n",
    ")\n",
    "\n",
    "# 1. Load and prepare the data\n",
    "# Assuming df4 is already loaded with features and 'stress_label' target\n",
    "X = df5.drop('stress_label', axis=1)\n",
    "y = df5['stress_label']\n",
    "\n",
    "# 2. Split data into train (80%) and test (20%)\n",
    "X_train, X_test, y_train, y_test = train_test_split(\n",
    "    X, y, test_size=0.2, random_state=42)\n",
    "\n",
    "# 3. Train LDA classifier\n",
    "lda = LinearDiscriminantAnalysis()\n",
    "lda.fit(X_train, y_train)\n",
    "\n",
    "# 4. Evaluate on TEST SET\n",
    "print(\"\\n\" + \"=\"*50)\n",
    "print(\"TEST SET EVALUATION (LDA)\")\n",
    "print(\"=\"*50)\n",
    "\n",
    "# A. Classification Report\n",
    "y_test_pred = lda.predict(X_test)\n",
    "print(\"\\nClassification Report:\")\n",
    "print(classification_report(y_test, y_test_pred, digits=4))\n",
    "\n",
    "# B. Confusion Matrix\n",
    "cm = confusion_matrix(y_test, y_test_pred)\n",
    "disp = ConfusionMatrixDisplay(confusion_matrix=cm)\n",
    "disp.plot(cmap='Oranges')\n",
    "plt.title(\"Test Set Confusion Matrix (LDA)\")\n",
    "plt.show()\n",
    "\n",
    "# C. ROC-AUC Curve (with 4 decimal places)\n",
    "y_test_proba = lda.predict_proba(X_test)[:, 1]\n",
    "fpr, tpr, _ = roc_curve(y_test, y_test_proba)\n",
    "roc_auc = auc(fpr, tpr)\n",
    "\n",
    "plt.figure()\n",
    "plt.plot(fpr, tpr, color='darkorange', \n",
    "         lw=2, \n",
    "         label=f'LDA (AUC = {roc_auc:.4f})')\n",
    "plt.plot([0, 1], [0, 1], 'k--', lw=2)\n",
    "plt.xlim([0.0, 1.0])\n",
    "plt.ylim([0.0, 1.05])\n",
    "plt.xlabel('False Positive Rate')\n",
    "plt.ylabel('True Positive Rate')\n",
    "plt.title('ROC Curve - LDA')\n",
    "plt.legend(loc=\"lower right\")\n",
    "plt.show()\n"
   ]
  },
  {
   "cell_type": "markdown",
   "id": "c20d21b9",
   "metadata": {
    "papermill": {
     "duration": null,
     "end_time": null,
     "exception": null,
     "start_time": null,
     "status": "pending"
    },
    "tags": []
   },
   "source": [
    "# E. Naive Bayes Classifier"
   ]
  },
  {
   "cell_type": "code",
   "execution_count": null,
   "id": "dd5f0c0b",
   "metadata": {
    "execution": {
     "iopub.execute_input": "2025-06-08T15:00:48.825118Z",
     "iopub.status.busy": "2025-06-08T15:00:48.824803Z",
     "iopub.status.idle": "2025-06-08T15:00:49.131228Z",
     "shell.execute_reply": "2025-06-08T15:00:49.130562Z",
     "shell.execute_reply.started": "2025-06-08T15:00:48.825096Z"
    },
    "papermill": {
     "duration": null,
     "end_time": null,
     "exception": null,
     "start_time": null,
     "status": "pending"
    },
    "tags": []
   },
   "outputs": [],
   "source": [
    "import pandas as pd\n",
    "import matplotlib.pyplot as plt\n",
    "from sklearn.model_selection import train_test_split\n",
    "from sklearn.naive_bayes import GaussianNB\n",
    "from sklearn.metrics import (\n",
    "    classification_report,\n",
    "    confusion_matrix,\n",
    "    ConfusionMatrixDisplay,\n",
    "    roc_auc_score,\n",
    "    roc_curve,\n",
    "    auc\n",
    ")\n",
    "\n",
    "# 1. Load and prepare the data\n",
    "# Assuming df4 is already loaded with features and 'stress_label' target\n",
    "X = df5.drop('stress_label', axis=1)\n",
    "y = df5['stress_label']\n",
    "\n",
    "# 2. Split data into train (80%) and test (20%)\n",
    "X_train, X_test, y_train, y_test = train_test_split(\n",
    "    X, y, test_size=0.2, random_state=42)\n",
    "\n",
    "# 3. Train Gaussian Naive Bayes classifier\n",
    "gnb = GaussianNB()\n",
    "gnb.fit(X_train, y_train)\n",
    "\n",
    "# 4. Evaluate on TEST SET\n",
    "print(\"\\n\" + \"=\"*50)\n",
    "print(\"TEST SET EVALUATION (GAUSSIAN NAIVE BAYES)\")\n",
    "print(\"=\"*50)\n",
    "\n",
    "# A. Classification Report\n",
    "y_test_pred = gnb.predict(X_test)\n",
    "print(\"\\nClassification Report:\")\n",
    "print(classification_report(y_test, y_test_pred, digits=4))\n",
    "\n",
    "# B. Confusion Matrix\n",
    "cm = confusion_matrix(y_test, y_test_pred)\n",
    "disp = ConfusionMatrixDisplay(confusion_matrix=cm)\n",
    "disp.plot(cmap='Reds')\n",
    "plt.title(\"Test Set Confusion Matrix (Gaussian NB)\")\n",
    "plt.show()\n",
    "\n",
    "# C. ROC-AUC Curve (with 4 decimal places)\n",
    "y_test_proba = gnb.predict_proba(X_test)[:, 1]\n",
    "fpr, tpr, _ = roc_curve(y_test, y_test_proba)\n",
    "roc_auc = auc(fpr, tpr)\n",
    "\n",
    "plt.figure()\n",
    "plt.plot(fpr, tpr, color='darkred', \n",
    "         lw=2, \n",
    "         label=f'Gaussian NB (AUC = {roc_auc:.4f})')\n",
    "plt.plot([0, 1], [0, 1], 'k--', lw=2)\n",
    "plt.xlim([0.0, 1.0])\n",
    "plt.ylim([0.0, 1.05])\n",
    "plt.xlabel('False Positive Rate')\n",
    "plt.ylabel('True Positive Rate')\n",
    "plt.title('ROC Curve - Gaussian Naive Bayes')\n",
    "plt.legend(loc=\"lower right\")\n",
    "plt.show()\n"
   ]
  },
  {
   "cell_type": "markdown",
   "id": "9d397493",
   "metadata": {
    "papermill": {
     "duration": null,
     "end_time": null,
     "exception": null,
     "start_time": null,
     "status": "pending"
    },
    "tags": []
   },
   "source": [
    "# F. Artificial Neural Network"
   ]
  },
  {
   "cell_type": "code",
   "execution_count": null,
   "id": "05834679",
   "metadata": {
    "execution": {
     "iopub.execute_input": "2025-06-08T15:05:16.105760Z",
     "iopub.status.busy": "2025-06-08T15:05:16.105427Z",
     "iopub.status.idle": "2025-06-08T15:05:38.788748Z",
     "shell.execute_reply": "2025-06-08T15:05:38.788124Z",
     "shell.execute_reply.started": "2025-06-08T15:05:16.105738Z"
    },
    "papermill": {
     "duration": null,
     "end_time": null,
     "exception": null,
     "start_time": null,
     "status": "pending"
    },
    "scrolled": true,
    "tags": []
   },
   "outputs": [],
   "source": [
    "import pandas as pd\n",
    "import matplotlib.pyplot as plt\n",
    "from sklearn.model_selection import train_test_split\n",
    "from sklearn.metrics import (\n",
    "    classification_report,\n",
    "    confusion_matrix,\n",
    "    ConfusionMatrixDisplay,\n",
    "    roc_auc_score,\n",
    "    roc_curve,\n",
    "    auc\n",
    ")\n",
    "import tensorflow as tf\n",
    "from tensorflow.keras.models import Sequential\n",
    "from tensorflow.keras.layers import Dense\n",
    "from tensorflow.keras.optimizers import Adagrad\n",
    "\n",
    "# 1. Load and prepare the data\n",
    "# Assuming df4 is already loaded with features and 'stress_label' target\n",
    "X = df5.drop('stress_label', axis=1)\n",
    "y = df5['stress_label']\n",
    "\n",
    "# 2. Split data into train (80%) and test (20%)\n",
    "X_train, X_test, y_train, y_test = train_test_split(\n",
    "    X, y, test_size=0.2, random_state=42)\n",
    "\n",
    "# 3. Build the ANN model\n",
    "model = Sequential([\n",
    "    Dense(16, activation='relu', input_shape=(X_train.shape[1],)),\n",
    "    Dense(32, activation='relu'),\n",
    "    Dense(64, activation='relu'),\n",
    "    Dense(1, activation='sigmoid')  # Binary output\n",
    "])\n",
    "\n",
    "# 4. Compile the model\n",
    "optimizer = Adagrad(learning_rate=0.01)\n",
    "model.compile(optimizer=optimizer, loss='binary_crossentropy', metrics=['accuracy'])\n",
    "\n",
    "# 5. Train the model\n",
    "history = model.fit(X_train, y_train, epochs=150, batch_size=64, verbose=2)\n",
    "\n",
    "# 6. Evaluate on TEST SET\n",
    "print(\"\\n\" + \"=\"*50)\n",
    "print(\"TEST SET EVALUATION (ANN)\")\n",
    "print(\"=\"*50)\n",
    "\n",
    "# Predict class labels\n",
    "y_test_proba = model.predict(X_test).flatten()\n",
    "y_test_pred = (y_test_proba >= 0.5).astype(int)\n",
    "\n",
    "# A. Classification Report\n",
    "print(\"\\nClassification Report:\")\n",
    "print(classification_report(y_test, y_test_pred, digits=4))\n",
    "\n",
    "# B. Confusion Matrix\n",
    "cm = confusion_matrix(y_test, y_test_pred)\n",
    "disp = ConfusionMatrixDisplay(confusion_matrix=cm)\n",
    "disp.plot(cmap='Blues')\n",
    "plt.title(\"Test Set Confusion Matrix (ANN)\")\n",
    "plt.show()\n",
    "\n",
    "# C. ROC-AUC Curve (with 4 decimal places)\n",
    "fpr, tpr, _ = roc_curve(y_test, y_test_proba)\n",
    "roc_auc = auc(fpr, tpr)\n",
    "\n",
    "plt.figure()\n",
    "plt.plot(fpr, tpr, color='blue', \n",
    "         lw=2, \n",
    "         label=f'ANN (AUC = {roc_auc:.4f})')\n",
    "plt.plot([0, 1], [0, 1], 'k--', lw=2)\n",
    "plt.xlim([0.0, 1.0])\n",
    "plt.ylim([0.0, 1.05])\n",
    "plt.xlabel('False Positive Rate')\n",
    "plt.ylabel('True Positive Rate')\n",
    "plt.title('ROC Curve - ANN')\n",
    "plt.legend(loc=\"lower right\")\n",
    "plt.show()\n"
   ]
  },
  {
   "cell_type": "markdown",
   "id": "8a45fc18",
   "metadata": {
    "papermill": {
     "duration": null,
     "end_time": null,
     "exception": null,
     "start_time": null,
     "status": "pending"
    },
    "tags": []
   },
   "source": [
    "# APPLY HDAO"
   ]
  },
  {
   "cell_type": "code",
   "execution_count": null,
   "id": "24890ca7",
   "metadata": {
    "execution": {
     "iopub.execute_input": "2025-06-08T15:13:42.731899Z",
     "iopub.status.busy": "2025-06-08T15:13:42.731597Z",
     "iopub.status.idle": "2025-06-08T15:13:42.736252Z",
     "shell.execute_reply": "2025-06-08T15:13:42.735559Z",
     "shell.execute_reply.started": "2025-06-08T15:13:42.731882Z"
    },
    "papermill": {
     "duration": null,
     "end_time": null,
     "exception": null,
     "start_time": null,
     "status": "pending"
    },
    "tags": []
   },
   "outputs": [],
   "source": [
    "# --- Top of your notebook ---\n",
    "import os\n",
    "os.environ[\"OPENBLAS_NUM_THREADS\"] = \"1\"  # Avoid OpenMP crash\n",
    "os.environ[\"NUMEXPR_NUM_THREADS\"] = \"1\"   # Optional: for numexpr\n",
    "os.environ[\"OMP_NUM_THREADS\"] = \"1\"       # Optional: for OMP libs\n",
    "\n",
    "import warnings\n",
    "warnings.filterwarnings(\"ignore\", category=UserWarning)\n",
    "warnings.filterwarnings(\"ignore\", category=RuntimeWarning)\n"
   ]
  },
  {
   "cell_type": "code",
   "execution_count": null,
   "id": "b4da532c",
   "metadata": {
    "execution": {
     "iopub.execute_input": "2025-06-08T15:15:09.248361Z",
     "iopub.status.busy": "2025-06-08T15:15:09.247704Z",
     "iopub.status.idle": "2025-06-08T15:15:09.259178Z",
     "shell.execute_reply": "2025-06-08T15:15:09.258395Z",
     "shell.execute_reply.started": "2025-06-08T15:15:09.248326Z"
    },
    "papermill": {
     "duration": null,
     "end_time": null,
     "exception": null,
     "start_time": null,
     "status": "pending"
    },
    "tags": []
   },
   "outputs": [],
   "source": [
    "import numpy as np\n",
    "import pandas as pd\n",
    "from sklearn.neighbors import NearestNeighbors, LocalOutlierFactor\n",
    "from sklearn.decomposition import PCA\n",
    "\n",
    "# ----- PARAMETERS -----\n",
    "radius_quantile = 0.05  # allows for broader synthetic point spread\n",
    "use_pca = True          # set to False if PCA not needed\n",
    "pca_variance = 0.95     # how much variance PCA should retain\n",
    "n_neighbors_lof = 10    # for outlier detection\n",
    "\n",
    "# ----- FUNCTIONS -----\n",
    "\n",
    "def compute_local_density(X, k=5):\n",
    "    \"\"\"Estimate local density using k-NN average distance.\"\"\"\n",
    "    nbrs = NearestNeighbors(n_neighbors=k+1).fit(X)\n",
    "    distances, _ = nbrs.kneighbors(X)\n",
    "    mean_dist = distances[:, 1:].mean(axis=1)  # exclude self\n",
    "    density = 1 / (mean_dist + 1e-10)\n",
    "    return density\n",
    "\n",
    "def remove_outliers(X, contamination=0.05):\n",
    "    \"\"\"Remove outliers using Local Outlier Factor.\"\"\"\n",
    "    lof = LocalOutlierFactor(n_neighbors=n_neighbors_lof, contamination=contamination)\n",
    "    mask = lof.fit_predict(X) == 1  # keep only inliers\n",
    "    return X[mask]\n",
    "\n",
    "def generate_gaussian_samples(mean, cov, n_points):\n",
    "    \"\"\"Generate synthetic samples from a multivariate Gaussian.\"\"\"\n",
    "    dim = mean.shape[0]\n",
    "    cov += 1e-6 * np.eye(dim)  # regularization to avoid singular matrix\n",
    "    return np.random.multivariate_normal(mean, cov, size=n_points)\n",
    "\n",
    "# ----- MAIN HDAO PROCEDURE -----\n",
    "\n",
    "def improved_HDAO(df_new):\n",
    "    new_samples_list = []\n",
    "    df_new['stress_label'] = df_new['stress_label'].astype(int)\n",
    "    actual_label_counts = df_new['stress_label'].value_counts()\n",
    "    max_count = actual_label_counts.max()\n",
    "\n",
    "    for label in actual_label_counts.index:\n",
    "        print(f\"Processing class {label}\")\n",
    "        class_data = df_new[df_new['stress_label'] == label].iloc[:, :-1].values\n",
    "        n_samples = class_data.shape[0]\n",
    "\n",
    "        # Step 1: Outlier Removal\n",
    "        class_data = remove_outliers(class_data, contamination=0.05)\n",
    "        if class_data.shape[0] < 10:\n",
    "            print(f\"Warning: Too few inliers in class {label}, skipping\")\n",
    "            continue\n",
    "\n",
    "        # Step 2: PCA (optional)\n",
    "        if use_pca:\n",
    "            pca = PCA(n_components=pca_variance)\n",
    "            class_data_pca = pca.fit_transform(class_data)\n",
    "        else:\n",
    "            class_data_pca = class_data\n",
    "\n",
    "        # Step 3: Density-weighted centroid\n",
    "        density_weights = compute_local_density(class_data_pca, k=5)\n",
    "        weighted_sum = np.sum(density_weights[:, None] * class_data_pca, axis=0)\n",
    "        cDWC = weighted_sum / np.sum(density_weights)\n",
    "\n",
    "        # Step 4: Radius from centroid\n",
    "        distances = np.linalg.norm(class_data_pca - cDWC, axis=1)\n",
    "        radius = np.quantile(distances, radius_quantile)\n",
    "\n",
    "        # Step 5: Class covariance (in PCA space or original)\n",
    "        cov_matrix = np.atleast_2d(np.cov(class_data_pca.T))\n",
    "\n",
    "        # Step 6: Number of synthetic points to generate\n",
    "        n_generate = max_count - n_samples\n",
    "        if n_generate > 0:\n",
    "            synthetic_points = generate_gaussian_samples(cDWC, cov_matrix, n_generate)\n",
    "\n",
    "            if use_pca:\n",
    "                synthetic_points = pca.inverse_transform(synthetic_points)\n",
    "\n",
    "            synthetic_df = pd.DataFrame(synthetic_points, columns=df_new.columns[:-1])\n",
    "            synthetic_df['stress_label'] = label\n",
    "            new_samples_list.append(synthetic_df)\n",
    "\n",
    "    # Combine original + synthetic\n",
    "    df_augmented = pd.concat([df_new] + new_samples_list, ignore_index=True)\n",
    "\n",
    "    # Class balance check\n",
    "    final_label_counts = df_augmented['stress_label'].value_counts().sort_index()\n",
    "    print(\"\\nFinal Class Counts:\\n\", final_label_counts)\n",
    "    print(\"New dataset shape:\", df_augmented.shape)\n",
    "\n",
    "    return df_augmented\n"
   ]
  },
  {
   "cell_type": "code",
   "execution_count": null,
   "id": "d4775b44",
   "metadata": {
    "execution": {
     "iopub.execute_input": "2025-06-08T15:15:12.251393Z",
     "iopub.status.busy": "2025-06-08T15:15:12.250792Z",
     "iopub.status.idle": "2025-06-08T15:15:12.970900Z",
     "shell.execute_reply": "2025-06-08T15:15:12.970363Z",
     "shell.execute_reply.started": "2025-06-08T15:15:12.251370Z"
    },
    "papermill": {
     "duration": null,
     "end_time": null,
     "exception": null,
     "start_time": null,
     "status": "pending"
    },
    "tags": []
   },
   "outputs": [],
   "source": [
    "df6 = improved_HDAO(df4)"
   ]
  },
  {
   "cell_type": "markdown",
   "id": "7f9e1121",
   "metadata": {
    "papermill": {
     "duration": null,
     "end_time": null,
     "exception": null,
     "start_time": null,
     "status": "pending"
    },
    "tags": []
   },
   "source": [
    "# CLASSIFICATION REPORTS: With HDAO"
   ]
  },
  {
   "cell_type": "markdown",
   "id": "6d849c14",
   "metadata": {
    "papermill": {
     "duration": null,
     "end_time": null,
     "exception": null,
     "start_time": null,
     "status": "pending"
    },
    "tags": []
   },
   "source": [
    "# a. Decision Tree"
   ]
  },
  {
   "cell_type": "code",
   "execution_count": null,
   "id": "d0ce3c24",
   "metadata": {
    "papermill": {
     "duration": null,
     "end_time": null,
     "exception": null,
     "start_time": null,
     "status": "pending"
    },
    "tags": []
   },
   "outputs": [],
   "source": []
  },
  {
   "cell_type": "markdown",
   "id": "a257242b",
   "metadata": {
    "papermill": {
     "duration": null,
     "end_time": null,
     "exception": null,
     "start_time": null,
     "status": "pending"
    },
    "tags": []
   },
   "source": [
    "# b. Logistic Regression"
   ]
  },
  {
   "cell_type": "code",
   "execution_count": null,
   "id": "07b785be",
   "metadata": {
    "papermill": {
     "duration": null,
     "end_time": null,
     "exception": null,
     "start_time": null,
     "status": "pending"
    },
    "tags": []
   },
   "outputs": [],
   "source": []
  },
  {
   "cell_type": "markdown",
   "id": "b37310db",
   "metadata": {
    "papermill": {
     "duration": null,
     "end_time": null,
     "exception": null,
     "start_time": null,
     "status": "pending"
    },
    "tags": []
   },
   "source": [
    "# c. K-Nearest Neighbours"
   ]
  },
  {
   "cell_type": "code",
   "execution_count": null,
   "id": "ee17f642",
   "metadata": {
    "papermill": {
     "duration": null,
     "end_time": null,
     "exception": null,
     "start_time": null,
     "status": "pending"
    },
    "tags": []
   },
   "outputs": [],
   "source": []
  },
  {
   "cell_type": "markdown",
   "id": "0d29c47d",
   "metadata": {
    "papermill": {
     "duration": null,
     "end_time": null,
     "exception": null,
     "start_time": null,
     "status": "pending"
    },
    "tags": []
   },
   "source": [
    "# d. Linear Discriminant Analysis "
   ]
  },
  {
   "cell_type": "code",
   "execution_count": null,
   "id": "128fcfb4",
   "metadata": {
    "papermill": {
     "duration": null,
     "end_time": null,
     "exception": null,
     "start_time": null,
     "status": "pending"
    },
    "tags": []
   },
   "outputs": [],
   "source": []
  },
  {
   "cell_type": "markdown",
   "id": "8e17b998",
   "metadata": {
    "papermill": {
     "duration": null,
     "end_time": null,
     "exception": null,
     "start_time": null,
     "status": "pending"
    },
    "tags": []
   },
   "source": [
    "# e. Naive Bayes Classifier"
   ]
  },
  {
   "cell_type": "code",
   "execution_count": null,
   "id": "2f33d5e6",
   "metadata": {
    "papermill": {
     "duration": null,
     "end_time": null,
     "exception": null,
     "start_time": null,
     "status": "pending"
    },
    "tags": []
   },
   "outputs": [],
   "source": []
  },
  {
   "cell_type": "markdown",
   "id": "0ab18418",
   "metadata": {
    "papermill": {
     "duration": null,
     "end_time": null,
     "exception": null,
     "start_time": null,
     "status": "pending"
    },
    "tags": []
   },
   "source": [
    "# f. Artificial Neural Network"
   ]
  },
  {
   "cell_type": "code",
   "execution_count": null,
   "id": "f1dd4055",
   "metadata": {
    "papermill": {
     "duration": null,
     "end_time": null,
     "exception": null,
     "start_time": null,
     "status": "pending"
    },
    "tags": []
   },
   "outputs": [],
   "source": []
  }
 ],
 "metadata": {
  "kaggle": {
   "accelerator": "nvidiaTeslaT4",
   "dataSources": [
    {
     "datasetId": 7507785,
     "sourceId": 11942681,
     "sourceType": "datasetVersion"
    }
   ],
   "dockerImageVersionId": 31011,
   "isGpuEnabled": true,
   "isInternetEnabled": true,
   "language": "python",
   "sourceType": "notebook"
  },
  "kernelspec": {
   "display_name": "Python 3",
   "language": "python",
   "name": "python3"
  },
  "language_info": {
   "codemirror_mode": {
    "name": "ipython",
    "version": 3
   },
   "file_extension": ".py",
   "mimetype": "text/x-python",
   "name": "python",
   "nbconvert_exporter": "python",
   "pygments_lexer": "ipython3",
   "version": "3.11.11"
  },
  "papermill": {
   "default_parameters": {},
   "duration": 223.608729,
   "end_time": "2025-06-08T15:23:33.020874",
   "environment_variables": {},
   "exception": true,
   "input_path": "__notebook__.ipynb",
   "output_path": "__notebook__.ipynb",
   "parameters": {},
   "start_time": "2025-06-08T15:19:49.412145",
   "version": "2.6.0"
  }
 },
 "nbformat": 4,
 "nbformat_minor": 5
}
